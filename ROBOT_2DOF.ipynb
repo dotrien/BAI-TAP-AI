{
  "nbformat": 4,
  "nbformat_minor": 0,
  "metadata": {
    "colab": {
      "name": "ROBOT 2DOF.ipynb",
      "provenance": [],
      "collapsed_sections": []
    },
    "kernelspec": {
      "name": "python3",
      "display_name": "Python 3"
    },
    "language_info": {
      "name": "python"
    },
    "accelerator": "GPU"
  },
  "cells": [
    {
      "cell_type": "code",
      "execution_count": null,
      "metadata": {
        "id": "EOYzlQlkA2iV"
      },
      "outputs": [],
      "source": [
        "# Khai báo và sử dụng các thư viện sau\n",
        "from sklearn.model_selection import train_test_split\n",
        "import matplotlib.pyplot as plt\n",
        "import numpy as np\n",
        "import pandas as pd\n",
        "import tensorflow as tf\n",
        "from keras.utils import np_utils\n",
        "from keras.models import Sequential\n",
        "from keras.layers import Dense, Activation, Dropout, Conv2D, MaxPooling2D, Flatten\n",
        "from tensorflow.keras.optimizers import SGD, RMSprop, Adam\n",
        "from keras.callbacks import EarlyStopping\n",
        "from sklearn.utils import validation \n",
        "from sklearn import preprocessing\n",
        "from tensorflow.keras.utils import to_categorical\n",
        "from tensorflow.keras.models import load_model\n",
        "from tensorflow.keras.utils import load_img, img_to_array"
      ]
    },
    {
      "cell_type": "code",
      "source": [
        "# Chuyển đến file Google Drive chứa file dữ liệu csv\n",
        "%cd\"/content/drive/MyDrive/Colab Notebooks/BTVN/2DOF/\""
      ],
      "metadata": {
        "colab": {
          "base_uri": "https://localhost:8080/"
        },
        "id": "4MyyWt8FEmYP",
        "outputId": "96d0a39e-9674-49b8-a788-fbd26a965a31"
      },
      "execution_count": null,
      "outputs": [
        {
          "output_type": "stream",
          "name": "stdout",
          "text": [
            "/content/drive/MyDrive/Colab Notebooks/BTVN/2DOF\n"
          ]
        }
      ]
    },
    {
      "cell_type": "code",
      "source": [
        "# Đọc file dữ liệu đã tạo sẵn\n",
        "data=pd.read_csv(\"/content/drive/MyDrive/Colab Notebooks/BTVN/2DOF/2DOF.csv\")\n",
        "data.head()"
      ],
      "metadata": {
        "colab": {
          "base_uri": "https://localhost:8080/",
          "height": 206
        },
        "id": "q1aP0iHpBI7E",
        "outputId": "279915d8-22a1-426d-c599-01b41743724a"
      },
      "execution_count": null,
      "outputs": [
        {
          "output_type": "execute_result",
          "data": {
            "text/plain": [
              "   theta1  theta2         px        py\n",
              "0     0.0     0.0  90.000000  0.000000\n",
              "1     0.0     1.0  89.993908  0.698096\n",
              "2     0.0     2.0  89.975633  1.395980\n",
              "3     0.0     3.0  89.945181  2.093438\n",
              "4     0.0     4.0  89.902562  2.790259"
            ],
            "text/html": [
              "\n",
              "  <div id=\"df-61d1ed38-5e9b-4bcc-a8e7-b9539837667f\">\n",
              "    <div class=\"colab-df-container\">\n",
              "      <div>\n",
              "<style scoped>\n",
              "    .dataframe tbody tr th:only-of-type {\n",
              "        vertical-align: middle;\n",
              "    }\n",
              "\n",
              "    .dataframe tbody tr th {\n",
              "        vertical-align: top;\n",
              "    }\n",
              "\n",
              "    .dataframe thead th {\n",
              "        text-align: right;\n",
              "    }\n",
              "</style>\n",
              "<table border=\"1\" class=\"dataframe\">\n",
              "  <thead>\n",
              "    <tr style=\"text-align: right;\">\n",
              "      <th></th>\n",
              "      <th>theta1</th>\n",
              "      <th>theta2</th>\n",
              "      <th>px</th>\n",
              "      <th>py</th>\n",
              "    </tr>\n",
              "  </thead>\n",
              "  <tbody>\n",
              "    <tr>\n",
              "      <th>0</th>\n",
              "      <td>0.0</td>\n",
              "      <td>0.0</td>\n",
              "      <td>90.000000</td>\n",
              "      <td>0.000000</td>\n",
              "    </tr>\n",
              "    <tr>\n",
              "      <th>1</th>\n",
              "      <td>0.0</td>\n",
              "      <td>1.0</td>\n",
              "      <td>89.993908</td>\n",
              "      <td>0.698096</td>\n",
              "    </tr>\n",
              "    <tr>\n",
              "      <th>2</th>\n",
              "      <td>0.0</td>\n",
              "      <td>2.0</td>\n",
              "      <td>89.975633</td>\n",
              "      <td>1.395980</td>\n",
              "    </tr>\n",
              "    <tr>\n",
              "      <th>3</th>\n",
              "      <td>0.0</td>\n",
              "      <td>3.0</td>\n",
              "      <td>89.945181</td>\n",
              "      <td>2.093438</td>\n",
              "    </tr>\n",
              "    <tr>\n",
              "      <th>4</th>\n",
              "      <td>0.0</td>\n",
              "      <td>4.0</td>\n",
              "      <td>89.902562</td>\n",
              "      <td>2.790259</td>\n",
              "    </tr>\n",
              "  </tbody>\n",
              "</table>\n",
              "</div>\n",
              "      <button class=\"colab-df-convert\" onclick=\"convertToInteractive('df-61d1ed38-5e9b-4bcc-a8e7-b9539837667f')\"\n",
              "              title=\"Convert this dataframe to an interactive table.\"\n",
              "              style=\"display:none;\">\n",
              "        \n",
              "  <svg xmlns=\"http://www.w3.org/2000/svg\" height=\"24px\"viewBox=\"0 0 24 24\"\n",
              "       width=\"24px\">\n",
              "    <path d=\"M0 0h24v24H0V0z\" fill=\"none\"/>\n",
              "    <path d=\"M18.56 5.44l.94 2.06.94-2.06 2.06-.94-2.06-.94-.94-2.06-.94 2.06-2.06.94zm-11 1L8.5 8.5l.94-2.06 2.06-.94-2.06-.94L8.5 2.5l-.94 2.06-2.06.94zm10 10l.94 2.06.94-2.06 2.06-.94-2.06-.94-.94-2.06-.94 2.06-2.06.94z\"/><path d=\"M17.41 7.96l-1.37-1.37c-.4-.4-.92-.59-1.43-.59-.52 0-1.04.2-1.43.59L10.3 9.45l-7.72 7.72c-.78.78-.78 2.05 0 2.83L4 21.41c.39.39.9.59 1.41.59.51 0 1.02-.2 1.41-.59l7.78-7.78 2.81-2.81c.8-.78.8-2.07 0-2.86zM5.41 20L4 18.59l7.72-7.72 1.47 1.35L5.41 20z\"/>\n",
              "  </svg>\n",
              "      </button>\n",
              "      \n",
              "  <style>\n",
              "    .colab-df-container {\n",
              "      display:flex;\n",
              "      flex-wrap:wrap;\n",
              "      gap: 12px;\n",
              "    }\n",
              "\n",
              "    .colab-df-convert {\n",
              "      background-color: #E8F0FE;\n",
              "      border: none;\n",
              "      border-radius: 50%;\n",
              "      cursor: pointer;\n",
              "      display: none;\n",
              "      fill: #1967D2;\n",
              "      height: 32px;\n",
              "      padding: 0 0 0 0;\n",
              "      width: 32px;\n",
              "    }\n",
              "\n",
              "    .colab-df-convert:hover {\n",
              "      background-color: #E2EBFA;\n",
              "      box-shadow: 0px 1px 2px rgba(60, 64, 67, 0.3), 0px 1px 3px 1px rgba(60, 64, 67, 0.15);\n",
              "      fill: #174EA6;\n",
              "    }\n",
              "\n",
              "    [theme=dark] .colab-df-convert {\n",
              "      background-color: #3B4455;\n",
              "      fill: #D2E3FC;\n",
              "    }\n",
              "\n",
              "    [theme=dark] .colab-df-convert:hover {\n",
              "      background-color: #434B5C;\n",
              "      box-shadow: 0px 1px 3px 1px rgba(0, 0, 0, 0.15);\n",
              "      filter: drop-shadow(0px 1px 2px rgba(0, 0, 0, 0.3));\n",
              "      fill: #FFFFFF;\n",
              "    }\n",
              "  </style>\n",
              "\n",
              "      <script>\n",
              "        const buttonEl =\n",
              "          document.querySelector('#df-61d1ed38-5e9b-4bcc-a8e7-b9539837667f button.colab-df-convert');\n",
              "        buttonEl.style.display =\n",
              "          google.colab.kernel.accessAllowed ? 'block' : 'none';\n",
              "\n",
              "        async function convertToInteractive(key) {\n",
              "          const element = document.querySelector('#df-61d1ed38-5e9b-4bcc-a8e7-b9539837667f');\n",
              "          const dataTable =\n",
              "            await google.colab.kernel.invokeFunction('convertToInteractive',\n",
              "                                                     [key], {});\n",
              "          if (!dataTable) return;\n",
              "\n",
              "          const docLinkHtml = 'Like what you see? Visit the ' +\n",
              "            '<a target=\"_blank\" href=https://colab.research.google.com/notebooks/data_table.ipynb>data table notebook</a>'\n",
              "            + ' to learn more about interactive tables.';\n",
              "          element.innerHTML = '';\n",
              "          dataTable['output_type'] = 'display_data';\n",
              "          await google.colab.output.renderOutput(dataTable, element);\n",
              "          const docLink = document.createElement('div');\n",
              "          docLink.innerHTML = docLinkHtml;\n",
              "          element.appendChild(docLink);\n",
              "        }\n",
              "      </script>\n",
              "    </div>\n",
              "  </div>\n",
              "  "
            ]
          },
          "metadata": {},
          "execution_count": 3
        }
      ]
    },
    {
      "cell_type": "code",
      "source": [
        "# Tạo ra x (input) cho mô hình\n",
        "x=data.drop(['theta1','theta2'],axis=1)\n",
        "x"
      ],
      "metadata": {
        "colab": {
          "base_uri": "https://localhost:8080/",
          "height": 424
        },
        "id": "KdHqq934B5jb",
        "outputId": "93f2bdda-e199-4d28-e635-0b7c032868bb"
      },
      "execution_count": null,
      "outputs": [
        {
          "output_type": "execute_result",
          "data": {
            "text/plain": [
              "              px         py\n",
              "0      90.000000   0.000000\n",
              "1      89.993908   0.698096\n",
              "2      89.975633   1.395980\n",
              "3      89.945181   2.093438\n",
              "4      89.902562   2.790259\n",
              "...          ...        ...\n",
              "26995 -17.631705 -22.638790\n",
              "26996 -17.226303 -22.070437\n",
              "26997 -16.830882 -21.495096\n",
              "26998 -16.445562 -20.912941\n",
              "26999 -16.070461 -20.324150\n",
              "\n",
              "[27000 rows x 2 columns]"
            ],
            "text/html": [
              "\n",
              "  <div id=\"df-bb9a0935-99c2-4e36-b43b-9bc33e065a32\">\n",
              "    <div class=\"colab-df-container\">\n",
              "      <div>\n",
              "<style scoped>\n",
              "    .dataframe tbody tr th:only-of-type {\n",
              "        vertical-align: middle;\n",
              "    }\n",
              "\n",
              "    .dataframe tbody tr th {\n",
              "        vertical-align: top;\n",
              "    }\n",
              "\n",
              "    .dataframe thead th {\n",
              "        text-align: right;\n",
              "    }\n",
              "</style>\n",
              "<table border=\"1\" class=\"dataframe\">\n",
              "  <thead>\n",
              "    <tr style=\"text-align: right;\">\n",
              "      <th></th>\n",
              "      <th>px</th>\n",
              "      <th>py</th>\n",
              "    </tr>\n",
              "  </thead>\n",
              "  <tbody>\n",
              "    <tr>\n",
              "      <th>0</th>\n",
              "      <td>90.000000</td>\n",
              "      <td>0.000000</td>\n",
              "    </tr>\n",
              "    <tr>\n",
              "      <th>1</th>\n",
              "      <td>89.993908</td>\n",
              "      <td>0.698096</td>\n",
              "    </tr>\n",
              "    <tr>\n",
              "      <th>2</th>\n",
              "      <td>89.975633</td>\n",
              "      <td>1.395980</td>\n",
              "    </tr>\n",
              "    <tr>\n",
              "      <th>3</th>\n",
              "      <td>89.945181</td>\n",
              "      <td>2.093438</td>\n",
              "    </tr>\n",
              "    <tr>\n",
              "      <th>4</th>\n",
              "      <td>89.902562</td>\n",
              "      <td>2.790259</td>\n",
              "    </tr>\n",
              "    <tr>\n",
              "      <th>...</th>\n",
              "      <td>...</td>\n",
              "      <td>...</td>\n",
              "    </tr>\n",
              "    <tr>\n",
              "      <th>26995</th>\n",
              "      <td>-17.631705</td>\n",
              "      <td>-22.638790</td>\n",
              "    </tr>\n",
              "    <tr>\n",
              "      <th>26996</th>\n",
              "      <td>-17.226303</td>\n",
              "      <td>-22.070437</td>\n",
              "    </tr>\n",
              "    <tr>\n",
              "      <th>26997</th>\n",
              "      <td>-16.830882</td>\n",
              "      <td>-21.495096</td>\n",
              "    </tr>\n",
              "    <tr>\n",
              "      <th>26998</th>\n",
              "      <td>-16.445562</td>\n",
              "      <td>-20.912941</td>\n",
              "    </tr>\n",
              "    <tr>\n",
              "      <th>26999</th>\n",
              "      <td>-16.070461</td>\n",
              "      <td>-20.324150</td>\n",
              "    </tr>\n",
              "  </tbody>\n",
              "</table>\n",
              "<p>27000 rows × 2 columns</p>\n",
              "</div>\n",
              "      <button class=\"colab-df-convert\" onclick=\"convertToInteractive('df-bb9a0935-99c2-4e36-b43b-9bc33e065a32')\"\n",
              "              title=\"Convert this dataframe to an interactive table.\"\n",
              "              style=\"display:none;\">\n",
              "        \n",
              "  <svg xmlns=\"http://www.w3.org/2000/svg\" height=\"24px\"viewBox=\"0 0 24 24\"\n",
              "       width=\"24px\">\n",
              "    <path d=\"M0 0h24v24H0V0z\" fill=\"none\"/>\n",
              "    <path d=\"M18.56 5.44l.94 2.06.94-2.06 2.06-.94-2.06-.94-.94-2.06-.94 2.06-2.06.94zm-11 1L8.5 8.5l.94-2.06 2.06-.94-2.06-.94L8.5 2.5l-.94 2.06-2.06.94zm10 10l.94 2.06.94-2.06 2.06-.94-2.06-.94-.94-2.06-.94 2.06-2.06.94z\"/><path d=\"M17.41 7.96l-1.37-1.37c-.4-.4-.92-.59-1.43-.59-.52 0-1.04.2-1.43.59L10.3 9.45l-7.72 7.72c-.78.78-.78 2.05 0 2.83L4 21.41c.39.39.9.59 1.41.59.51 0 1.02-.2 1.41-.59l7.78-7.78 2.81-2.81c.8-.78.8-2.07 0-2.86zM5.41 20L4 18.59l7.72-7.72 1.47 1.35L5.41 20z\"/>\n",
              "  </svg>\n",
              "      </button>\n",
              "      \n",
              "  <style>\n",
              "    .colab-df-container {\n",
              "      display:flex;\n",
              "      flex-wrap:wrap;\n",
              "      gap: 12px;\n",
              "    }\n",
              "\n",
              "    .colab-df-convert {\n",
              "      background-color: #E8F0FE;\n",
              "      border: none;\n",
              "      border-radius: 50%;\n",
              "      cursor: pointer;\n",
              "      display: none;\n",
              "      fill: #1967D2;\n",
              "      height: 32px;\n",
              "      padding: 0 0 0 0;\n",
              "      width: 32px;\n",
              "    }\n",
              "\n",
              "    .colab-df-convert:hover {\n",
              "      background-color: #E2EBFA;\n",
              "      box-shadow: 0px 1px 2px rgba(60, 64, 67, 0.3), 0px 1px 3px 1px rgba(60, 64, 67, 0.15);\n",
              "      fill: #174EA6;\n",
              "    }\n",
              "\n",
              "    [theme=dark] .colab-df-convert {\n",
              "      background-color: #3B4455;\n",
              "      fill: #D2E3FC;\n",
              "    }\n",
              "\n",
              "    [theme=dark] .colab-df-convert:hover {\n",
              "      background-color: #434B5C;\n",
              "      box-shadow: 0px 1px 3px 1px rgba(0, 0, 0, 0.15);\n",
              "      filter: drop-shadow(0px 1px 2px rgba(0, 0, 0, 0.3));\n",
              "      fill: #FFFFFF;\n",
              "    }\n",
              "  </style>\n",
              "\n",
              "      <script>\n",
              "        const buttonEl =\n",
              "          document.querySelector('#df-bb9a0935-99c2-4e36-b43b-9bc33e065a32 button.colab-df-convert');\n",
              "        buttonEl.style.display =\n",
              "          google.colab.kernel.accessAllowed ? 'block' : 'none';\n",
              "\n",
              "        async function convertToInteractive(key) {\n",
              "          const element = document.querySelector('#df-bb9a0935-99c2-4e36-b43b-9bc33e065a32');\n",
              "          const dataTable =\n",
              "            await google.colab.kernel.invokeFunction('convertToInteractive',\n",
              "                                                     [key], {});\n",
              "          if (!dataTable) return;\n",
              "\n",
              "          const docLinkHtml = 'Like what you see? Visit the ' +\n",
              "            '<a target=\"_blank\" href=https://colab.research.google.com/notebooks/data_table.ipynb>data table notebook</a>'\n",
              "            + ' to learn more about interactive tables.';\n",
              "          element.innerHTML = '';\n",
              "          dataTable['output_type'] = 'display_data';\n",
              "          await google.colab.output.renderOutput(dataTable, element);\n",
              "          const docLink = document.createElement('div');\n",
              "          docLink.innerHTML = docLinkHtml;\n",
              "          element.appendChild(docLink);\n",
              "        }\n",
              "      </script>\n",
              "    </div>\n",
              "  </div>\n",
              "  "
            ]
          },
          "metadata": {},
          "execution_count": 4
        }
      ]
    },
    {
      "cell_type": "code",
      "source": [
        "# Tạo ra y (output) cho mô hình\n",
        "y=data[['theta1','theta2']]\n",
        "y"
      ],
      "metadata": {
        "colab": {
          "base_uri": "https://localhost:8080/",
          "height": 424
        },
        "id": "STO8ONKrCNLD",
        "outputId": "da836890-6933-422f-fd97-0fdbec9a5fea"
      },
      "execution_count": null,
      "outputs": [
        {
          "output_type": "execute_result",
          "data": {
            "text/plain": [
              "       theta1  theta2\n",
              "0         0.0     0.0\n",
              "1         0.0     1.0\n",
              "2         0.0     2.0\n",
              "3         0.0     3.0\n",
              "4         0.0     4.0\n",
              "...       ...     ...\n",
              "26995   179.0   145.0\n",
              "26996   179.0   146.0\n",
              "26997   179.0   147.0\n",
              "26998   179.0   148.0\n",
              "26999   179.0   149.0\n",
              "\n",
              "[27000 rows x 2 columns]"
            ],
            "text/html": [
              "\n",
              "  <div id=\"df-b638f6e2-fdf4-489c-921f-b8a6a9bc6368\">\n",
              "    <div class=\"colab-df-container\">\n",
              "      <div>\n",
              "<style scoped>\n",
              "    .dataframe tbody tr th:only-of-type {\n",
              "        vertical-align: middle;\n",
              "    }\n",
              "\n",
              "    .dataframe tbody tr th {\n",
              "        vertical-align: top;\n",
              "    }\n",
              "\n",
              "    .dataframe thead th {\n",
              "        text-align: right;\n",
              "    }\n",
              "</style>\n",
              "<table border=\"1\" class=\"dataframe\">\n",
              "  <thead>\n",
              "    <tr style=\"text-align: right;\">\n",
              "      <th></th>\n",
              "      <th>theta1</th>\n",
              "      <th>theta2</th>\n",
              "    </tr>\n",
              "  </thead>\n",
              "  <tbody>\n",
              "    <tr>\n",
              "      <th>0</th>\n",
              "      <td>0.0</td>\n",
              "      <td>0.0</td>\n",
              "    </tr>\n",
              "    <tr>\n",
              "      <th>1</th>\n",
              "      <td>0.0</td>\n",
              "      <td>1.0</td>\n",
              "    </tr>\n",
              "    <tr>\n",
              "      <th>2</th>\n",
              "      <td>0.0</td>\n",
              "      <td>2.0</td>\n",
              "    </tr>\n",
              "    <tr>\n",
              "      <th>3</th>\n",
              "      <td>0.0</td>\n",
              "      <td>3.0</td>\n",
              "    </tr>\n",
              "    <tr>\n",
              "      <th>4</th>\n",
              "      <td>0.0</td>\n",
              "      <td>4.0</td>\n",
              "    </tr>\n",
              "    <tr>\n",
              "      <th>...</th>\n",
              "      <td>...</td>\n",
              "      <td>...</td>\n",
              "    </tr>\n",
              "    <tr>\n",
              "      <th>26995</th>\n",
              "      <td>179.0</td>\n",
              "      <td>145.0</td>\n",
              "    </tr>\n",
              "    <tr>\n",
              "      <th>26996</th>\n",
              "      <td>179.0</td>\n",
              "      <td>146.0</td>\n",
              "    </tr>\n",
              "    <tr>\n",
              "      <th>26997</th>\n",
              "      <td>179.0</td>\n",
              "      <td>147.0</td>\n",
              "    </tr>\n",
              "    <tr>\n",
              "      <th>26998</th>\n",
              "      <td>179.0</td>\n",
              "      <td>148.0</td>\n",
              "    </tr>\n",
              "    <tr>\n",
              "      <th>26999</th>\n",
              "      <td>179.0</td>\n",
              "      <td>149.0</td>\n",
              "    </tr>\n",
              "  </tbody>\n",
              "</table>\n",
              "<p>27000 rows × 2 columns</p>\n",
              "</div>\n",
              "      <button class=\"colab-df-convert\" onclick=\"convertToInteractive('df-b638f6e2-fdf4-489c-921f-b8a6a9bc6368')\"\n",
              "              title=\"Convert this dataframe to an interactive table.\"\n",
              "              style=\"display:none;\">\n",
              "        \n",
              "  <svg xmlns=\"http://www.w3.org/2000/svg\" height=\"24px\"viewBox=\"0 0 24 24\"\n",
              "       width=\"24px\">\n",
              "    <path d=\"M0 0h24v24H0V0z\" fill=\"none\"/>\n",
              "    <path d=\"M18.56 5.44l.94 2.06.94-2.06 2.06-.94-2.06-.94-.94-2.06-.94 2.06-2.06.94zm-11 1L8.5 8.5l.94-2.06 2.06-.94-2.06-.94L8.5 2.5l-.94 2.06-2.06.94zm10 10l.94 2.06.94-2.06 2.06-.94-2.06-.94-.94-2.06-.94 2.06-2.06.94z\"/><path d=\"M17.41 7.96l-1.37-1.37c-.4-.4-.92-.59-1.43-.59-.52 0-1.04.2-1.43.59L10.3 9.45l-7.72 7.72c-.78.78-.78 2.05 0 2.83L4 21.41c.39.39.9.59 1.41.59.51 0 1.02-.2 1.41-.59l7.78-7.78 2.81-2.81c.8-.78.8-2.07 0-2.86zM5.41 20L4 18.59l7.72-7.72 1.47 1.35L5.41 20z\"/>\n",
              "  </svg>\n",
              "      </button>\n",
              "      \n",
              "  <style>\n",
              "    .colab-df-container {\n",
              "      display:flex;\n",
              "      flex-wrap:wrap;\n",
              "      gap: 12px;\n",
              "    }\n",
              "\n",
              "    .colab-df-convert {\n",
              "      background-color: #E8F0FE;\n",
              "      border: none;\n",
              "      border-radius: 50%;\n",
              "      cursor: pointer;\n",
              "      display: none;\n",
              "      fill: #1967D2;\n",
              "      height: 32px;\n",
              "      padding: 0 0 0 0;\n",
              "      width: 32px;\n",
              "    }\n",
              "\n",
              "    .colab-df-convert:hover {\n",
              "      background-color: #E2EBFA;\n",
              "      box-shadow: 0px 1px 2px rgba(60, 64, 67, 0.3), 0px 1px 3px 1px rgba(60, 64, 67, 0.15);\n",
              "      fill: #174EA6;\n",
              "    }\n",
              "\n",
              "    [theme=dark] .colab-df-convert {\n",
              "      background-color: #3B4455;\n",
              "      fill: #D2E3FC;\n",
              "    }\n",
              "\n",
              "    [theme=dark] .colab-df-convert:hover {\n",
              "      background-color: #434B5C;\n",
              "      box-shadow: 0px 1px 3px 1px rgba(0, 0, 0, 0.15);\n",
              "      filter: drop-shadow(0px 1px 2px rgba(0, 0, 0, 0.3));\n",
              "      fill: #FFFFFF;\n",
              "    }\n",
              "  </style>\n",
              "\n",
              "      <script>\n",
              "        const buttonEl =\n",
              "          document.querySelector('#df-b638f6e2-fdf4-489c-921f-b8a6a9bc6368 button.colab-df-convert');\n",
              "        buttonEl.style.display =\n",
              "          google.colab.kernel.accessAllowed ? 'block' : 'none';\n",
              "\n",
              "        async function convertToInteractive(key) {\n",
              "          const element = document.querySelector('#df-b638f6e2-fdf4-489c-921f-b8a6a9bc6368');\n",
              "          const dataTable =\n",
              "            await google.colab.kernel.invokeFunction('convertToInteractive',\n",
              "                                                     [key], {});\n",
              "          if (!dataTable) return;\n",
              "\n",
              "          const docLinkHtml = 'Like what you see? Visit the ' +\n",
              "            '<a target=\"_blank\" href=https://colab.research.google.com/notebooks/data_table.ipynb>data table notebook</a>'\n",
              "            + ' to learn more about interactive tables.';\n",
              "          element.innerHTML = '';\n",
              "          dataTable['output_type'] = 'display_data';\n",
              "          await google.colab.output.renderOutput(dataTable, element);\n",
              "          const docLink = document.createElement('div');\n",
              "          docLink.innerHTML = docLinkHtml;\n",
              "          element.appendChild(docLink);\n",
              "        }\n",
              "      </script>\n",
              "    </div>\n",
              "  </div>\n",
              "  "
            ]
          },
          "metadata": {},
          "execution_count": 5
        }
      ]
    },
    {
      "cell_type": "code",
      "source": [
        "x.shape"
      ],
      "metadata": {
        "colab": {
          "base_uri": "https://localhost:8080/"
        },
        "id": "IC_I0yD6CVKj",
        "outputId": "8c10f4f7-8ca0-4ad9-906b-d09a1f60793c"
      },
      "execution_count": null,
      "outputs": [
        {
          "output_type": "execute_result",
          "data": {
            "text/plain": [
              "(27000, 2)"
            ]
          },
          "metadata": {},
          "execution_count": 6
        }
      ]
    },
    {
      "cell_type": "code",
      "source": [
        "y.shape"
      ],
      "metadata": {
        "colab": {
          "base_uri": "https://localhost:8080/"
        },
        "id": "wHZJ4ypTCic0",
        "outputId": "32d5afc3-39cc-4d6a-80b4-cd89c2dbaaad"
      },
      "execution_count": null,
      "outputs": [
        {
          "output_type": "execute_result",
          "data": {
            "text/plain": [
              "(27000, 2)"
            ]
          },
          "metadata": {},
          "execution_count": 7
        }
      ]
    },
    {
      "cell_type": "code",
      "source": [
        "# Cắt phần dữ liệu x, y đã tạo ra 2 phần với phần training là 60% và test là 40%\n",
        "x_train,x_test,y_train,y_test=train_test_split(x,y,test_size=0.4)"
      ],
      "metadata": {
        "id": "3WAXhkUECja0"
      },
      "execution_count": null,
      "outputs": []
    },
    {
      "cell_type": "code",
      "source": [
        "x_train.shape"
      ],
      "metadata": {
        "colab": {
          "base_uri": "https://localhost:8080/"
        },
        "id": "2sQzNhVWGpbU",
        "outputId": "a6c7f049-b6a3-41f8-cc92-3756d0c3e21e"
      },
      "execution_count": null,
      "outputs": [
        {
          "output_type": "execute_result",
          "data": {
            "text/plain": [
              "(16200, 2)"
            ]
          },
          "metadata": {},
          "execution_count": 9
        }
      ]
    },
    {
      "cell_type": "code",
      "source": [
        "x_test.shape"
      ],
      "metadata": {
        "colab": {
          "base_uri": "https://localhost:8080/"
        },
        "id": "F5ExoWhopbxZ",
        "outputId": "e90acb40-c15a-4f65-ace5-bcd2b96bdb5d"
      },
      "execution_count": null,
      "outputs": [
        {
          "output_type": "execute_result",
          "data": {
            "text/plain": [
              "(10800, 2)"
            ]
          },
          "metadata": {},
          "execution_count": 12
        }
      ]
    },
    {
      "cell_type": "code",
      "source": [
        "y_train.shape"
      ],
      "metadata": {
        "colab": {
          "base_uri": "https://localhost:8080/"
        },
        "id": "nMO7M9nxHaVd",
        "outputId": "7a83ab63-1458-4aa7-c1a0-db1ab7c95e8f"
      },
      "execution_count": null,
      "outputs": [
        {
          "output_type": "execute_result",
          "data": {
            "text/plain": [
              "(16200, 2)"
            ]
          },
          "metadata": {},
          "execution_count": 10
        }
      ]
    },
    {
      "cell_type": "code",
      "source": [
        "y_test.shape"
      ],
      "metadata": {
        "colab": {
          "base_uri": "https://localhost:8080/"
        },
        "id": "0Fpul0tVpeDt",
        "outputId": "bcd0046c-fbf4-4759-8df3-e03b657860b1"
      },
      "execution_count": null,
      "outputs": [
        {
          "output_type": "execute_result",
          "data": {
            "text/plain": [
              "(10800, 2)"
            ]
          },
          "metadata": {},
          "execution_count": 13
        }
      ]
    },
    {
      "cell_type": "code",
      "source": [
        "# Tạo ra mạng ANN để train mô hình\n",
        "model=Sequential()\n",
        "# Tạo lớp ẩn thứ nhất với 2 tín hiệu vào và có 128 tín hiệu ra sử dụng hàm relu\n",
        "model.add(Dense(128,activation='relu',input_shape=(2,)))\n",
        "# Tạo lớp ẩn thứ hai với 128 tín hiệu vào và có 64 tín hiệu ra sử dụng hàm relu\n",
        "model.add(Dense(64,activation='relu'))\n",
        "# Tạo lớp ẩn thứ ba với 64 tín hiệu vào và có 32 tín hiệu ra sử dụng hàm relu\n",
        "model.add(Dense(32,activation='relu'))\n",
        "# Tạo lớp ẩn thứ tư với 32 tín hiệu vào và có 16 tín hiệu ra sử dụng hàm relu\n",
        "model.add(Dense(16,activation='relu'))\n",
        "# Tạo lớp ẩn thứ năm với 16 tín hiệu vào và có 2 tín hiệu ra sử dụng hàm linear\n",
        "model.add(Dense(2,activation='linear'))\n",
        "model.summary()\n"
      ],
      "metadata": {
        "colab": {
          "base_uri": "https://localhost:8080/"
        },
        "id": "c1PqfW0aDoKT",
        "outputId": "4b5548ed-e0c1-4438-9282-7efb50b4fc7a"
      },
      "execution_count": null,
      "outputs": [
        {
          "output_type": "stream",
          "name": "stdout",
          "text": [
            "Model: \"sequential_1\"\n",
            "_________________________________________________________________\n",
            " Layer (type)                Output Shape              Param #   \n",
            "=================================================================\n",
            " dense_5 (Dense)             (None, 128)               384       \n",
            "                                                                 \n",
            " dense_6 (Dense)             (None, 64)                8256      \n",
            "                                                                 \n",
            " dense_7 (Dense)             (None, 32)                2080      \n",
            "                                                                 \n",
            " dense_8 (Dense)             (None, 16)                528       \n",
            "                                                                 \n",
            " dense_9 (Dense)             (None, 2)                 34        \n",
            "                                                                 \n",
            "=================================================================\n",
            "Total params: 11,282\n",
            "Trainable params: 11,282\n",
            "Non-trainable params: 0\n",
            "_________________________________________________________________\n"
          ]
        }
      ]
    },
    {
      "cell_type": "code",
      "source": [
        "# Biên dịch \n",
        "model.compile(loss='mse',optimizer='adam',metrics='mae')\n",
        "#Gán biến lại để vẽ đồ thị, với 500 lần học (epochs), mỗi lần học thì chỉ học␣50 dữ liệu (batch_size), khi sai số không thay đổi trong 50 lần học thì sẽ␣ dừng học\n",
        "history= model.fit(x_train, y_train, batch_size=50, epochs=500, verbose=1, validation_split=0.2,callbacks=[EarlyStopping(monitor='val_loss', patience=50)])\n"
      ],
      "metadata": {
        "colab": {
          "base_uri": "https://localhost:8080/"
        },
        "id": "puxEEf2tFTYr",
        "outputId": "79ed69f4-feba-4534-e3c2-2dbe272d0e73"
      },
      "execution_count": null,
      "outputs": [
        {
          "output_type": "stream",
          "name": "stdout",
          "text": [
            "Epoch 1/500\n",
            "260/260 [==============================] - 1s 3ms/step - loss: 5.1851 - mae: 1.2449 - val_loss: 2.0322 - val_mae: 0.9466\n",
            "Epoch 2/500\n",
            "260/260 [==============================] - 1s 3ms/step - loss: 3.4981 - mae: 1.1333 - val_loss: 4.3417 - val_mae: 1.2757\n",
            "Epoch 3/500\n",
            "260/260 [==============================] - 1s 3ms/step - loss: 4.2733 - mae: 1.2353 - val_loss: 16.1559 - val_mae: 2.6369\n",
            "Epoch 4/500\n",
            "260/260 [==============================] - 1s 3ms/step - loss: 5.8273 - mae: 1.4726 - val_loss: 2.5465 - val_mae: 0.9740\n",
            "Epoch 5/500\n",
            "260/260 [==============================] - 1s 3ms/step - loss: 4.2373 - mae: 1.1896 - val_loss: 5.0025 - val_mae: 1.4309\n",
            "Epoch 6/500\n",
            "260/260 [==============================] - 1s 3ms/step - loss: 3.8290 - mae: 1.1737 - val_loss: 4.2476 - val_mae: 1.3283\n",
            "Epoch 7/500\n",
            "260/260 [==============================] - 1s 3ms/step - loss: 4.5517 - mae: 1.2775 - val_loss: 5.0930 - val_mae: 1.4319\n",
            "Epoch 8/500\n",
            "260/260 [==============================] - 1s 3ms/step - loss: 3.4453 - mae: 1.0941 - val_loss: 3.8338 - val_mae: 1.2486\n",
            "Epoch 9/500\n",
            "260/260 [==============================] - 1s 3ms/step - loss: 4.4513 - mae: 1.2543 - val_loss: 2.1259 - val_mae: 0.8037\n",
            "Epoch 10/500\n",
            "260/260 [==============================] - 1s 3ms/step - loss: 4.5313 - mae: 1.2670 - val_loss: 5.3595 - val_mae: 1.6809\n",
            "Epoch 11/500\n",
            "260/260 [==============================] - 1s 3ms/step - loss: 3.7296 - mae: 1.1618 - val_loss: 4.5712 - val_mae: 1.3328\n",
            "Epoch 12/500\n",
            "260/260 [==============================] - 1s 3ms/step - loss: 3.8853 - mae: 1.1502 - val_loss: 1.7115 - val_mae: 0.7564\n",
            "Epoch 13/500\n",
            "260/260 [==============================] - 1s 3ms/step - loss: 3.1691 - mae: 1.0157 - val_loss: 3.8806 - val_mae: 1.1967\n",
            "Epoch 14/500\n",
            "260/260 [==============================] - 1s 3ms/step - loss: 3.2310 - mae: 1.0741 - val_loss: 6.6422 - val_mae: 1.4718\n",
            "Epoch 15/500\n",
            "260/260 [==============================] - 1s 3ms/step - loss: 3.3036 - mae: 1.0231 - val_loss: 9.1690 - val_mae: 1.7718\n",
            "Epoch 16/500\n",
            "260/260 [==============================] - 1s 3ms/step - loss: 4.6951 - mae: 1.3270 - val_loss: 3.5223 - val_mae: 1.1274\n",
            "Epoch 17/500\n",
            "260/260 [==============================] - 1s 3ms/step - loss: 4.8060 - mae: 1.3027 - val_loss: 11.4405 - val_mae: 2.1824\n",
            "Epoch 18/500\n",
            "260/260 [==============================] - 1s 2ms/step - loss: 5.6565 - mae: 1.4089 - val_loss: 3.4700 - val_mae: 1.2068\n",
            "Epoch 19/500\n",
            "260/260 [==============================] - 1s 3ms/step - loss: 2.5061 - mae: 0.9040 - val_loss: 2.4547 - val_mae: 0.8977\n",
            "Epoch 20/500\n",
            "260/260 [==============================] - 1s 3ms/step - loss: 5.5056 - mae: 1.4142 - val_loss: 12.0176 - val_mae: 2.1494\n",
            "Epoch 21/500\n",
            "260/260 [==============================] - 1s 3ms/step - loss: 4.2295 - mae: 1.1780 - val_loss: 1.9632 - val_mae: 0.7816\n",
            "Epoch 22/500\n",
            "260/260 [==============================] - 1s 3ms/step - loss: 4.8509 - mae: 1.3103 - val_loss: 3.9973 - val_mae: 1.2662\n",
            "Epoch 23/500\n",
            "260/260 [==============================] - 1s 3ms/step - loss: 3.4917 - mae: 1.1163 - val_loss: 18.0614 - val_mae: 2.4099\n",
            "Epoch 24/500\n",
            "260/260 [==============================] - 1s 3ms/step - loss: 4.4784 - mae: 1.2755 - val_loss: 3.5748 - val_mae: 1.1987\n",
            "Epoch 25/500\n",
            "260/260 [==============================] - 1s 3ms/step - loss: 3.7481 - mae: 1.0994 - val_loss: 8.0968 - val_mae: 2.0409\n",
            "Epoch 26/500\n",
            "260/260 [==============================] - 1s 3ms/step - loss: 5.4791 - mae: 1.4167 - val_loss: 2.5114 - val_mae: 0.8323\n",
            "Epoch 27/500\n",
            "260/260 [==============================] - 1s 3ms/step - loss: 4.7221 - mae: 1.2261 - val_loss: 1.8722 - val_mae: 0.8029\n",
            "Epoch 28/500\n",
            "260/260 [==============================] - 1s 3ms/step - loss: 2.7283 - mae: 0.9695 - val_loss: 3.2012 - val_mae: 1.0415\n",
            "Epoch 29/500\n",
            "260/260 [==============================] - 1s 3ms/step - loss: 6.1833 - mae: 1.5043 - val_loss: 1.8877 - val_mae: 0.8713\n",
            "Epoch 30/500\n",
            "260/260 [==============================] - 1s 3ms/step - loss: 3.9621 - mae: 1.1403 - val_loss: 7.4826 - val_mae: 1.9405\n",
            "Epoch 31/500\n",
            "260/260 [==============================] - 1s 3ms/step - loss: 3.1937 - mae: 1.0592 - val_loss: 2.9630 - val_mae: 0.9708\n",
            "Epoch 32/500\n",
            "260/260 [==============================] - 1s 3ms/step - loss: 3.9260 - mae: 1.1728 - val_loss: 8.5718 - val_mae: 2.0275\n",
            "Epoch 33/500\n",
            "260/260 [==============================] - 1s 3ms/step - loss: 3.5988 - mae: 1.1348 - val_loss: 1.3197 - val_mae: 0.6290\n",
            "Epoch 34/500\n",
            "260/260 [==============================] - 1s 2ms/step - loss: 5.9061 - mae: 1.4826 - val_loss: 22.2520 - val_mae: 3.1381\n",
            "Epoch 35/500\n",
            "260/260 [==============================] - 1s 3ms/step - loss: 4.2653 - mae: 1.2373 - val_loss: 1.3356 - val_mae: 0.6429\n",
            "Epoch 36/500\n",
            "260/260 [==============================] - 1s 3ms/step - loss: 4.2710 - mae: 1.2281 - val_loss: 8.2859 - val_mae: 1.7608\n",
            "Epoch 37/500\n",
            "260/260 [==============================] - 1s 3ms/step - loss: 4.9136 - mae: 1.3303 - val_loss: 2.9866 - val_mae: 1.0339\n",
            "Epoch 38/500\n",
            "260/260 [==============================] - 1s 3ms/step - loss: 2.3169 - mae: 0.8831 - val_loss: 3.8945 - val_mae: 1.2716\n",
            "Epoch 39/500\n",
            "260/260 [==============================] - 1s 3ms/step - loss: 4.1371 - mae: 1.2124 - val_loss: 10.5497 - val_mae: 1.7944\n",
            "Epoch 40/500\n",
            "260/260 [==============================] - 1s 3ms/step - loss: 3.4042 - mae: 1.1012 - val_loss: 8.7060 - val_mae: 1.9809\n",
            "Epoch 41/500\n",
            "260/260 [==============================] - 1s 3ms/step - loss: 3.2804 - mae: 1.1017 - val_loss: 2.4056 - val_mae: 0.8795\n",
            "Epoch 42/500\n",
            "260/260 [==============================] - 1s 3ms/step - loss: 3.9741 - mae: 1.0965 - val_loss: 2.4212 - val_mae: 0.9239\n",
            "Epoch 43/500\n",
            "260/260 [==============================] - 1s 3ms/step - loss: 4.2787 - mae: 1.2091 - val_loss: 4.0322 - val_mae: 1.2025\n",
            "Epoch 44/500\n",
            "260/260 [==============================] - 1s 3ms/step - loss: 5.2756 - mae: 1.4101 - val_loss: 4.9931 - val_mae: 1.2328\n",
            "Epoch 45/500\n",
            "260/260 [==============================] - 1s 3ms/step - loss: 3.8436 - mae: 1.1927 - val_loss: 3.6802 - val_mae: 1.1529\n",
            "Epoch 46/500\n",
            "260/260 [==============================] - 1s 3ms/step - loss: 3.5555 - mae: 1.0764 - val_loss: 9.0296 - val_mae: 1.8143\n",
            "Epoch 47/500\n",
            "260/260 [==============================] - 1s 3ms/step - loss: 4.0632 - mae: 1.1680 - val_loss: 1.8239 - val_mae: 0.7204\n",
            "Epoch 48/500\n",
            "260/260 [==============================] - 1s 3ms/step - loss: 3.3909 - mae: 1.0646 - val_loss: 2.7771 - val_mae: 1.0108\n",
            "Epoch 49/500\n",
            "260/260 [==============================] - 1s 3ms/step - loss: 4.0711 - mae: 1.2429 - val_loss: 4.1752 - val_mae: 1.4644\n",
            "Epoch 50/500\n",
            "260/260 [==============================] - 1s 3ms/step - loss: 3.4923 - mae: 1.1279 - val_loss: 4.2052 - val_mae: 1.3146\n",
            "Epoch 51/500\n",
            "260/260 [==============================] - 1s 3ms/step - loss: 3.3816 - mae: 1.0493 - val_loss: 4.0472 - val_mae: 1.3428\n",
            "Epoch 52/500\n",
            "260/260 [==============================] - 1s 3ms/step - loss: 3.7990 - mae: 1.1681 - val_loss: 6.0098 - val_mae: 1.6796\n",
            "Epoch 53/500\n",
            "260/260 [==============================] - 1s 3ms/step - loss: 3.5342 - mae: 1.1100 - val_loss: 4.7648 - val_mae: 1.3078\n",
            "Epoch 54/500\n",
            "260/260 [==============================] - 1s 3ms/step - loss: 4.0124 - mae: 1.1889 - val_loss: 3.7657 - val_mae: 1.3086\n",
            "Epoch 55/500\n",
            "260/260 [==============================] - 1s 3ms/step - loss: 4.7323 - mae: 1.3238 - val_loss: 2.7372 - val_mae: 0.9764\n",
            "Epoch 56/500\n",
            "260/260 [==============================] - 1s 3ms/step - loss: 3.0805 - mae: 1.0380 - val_loss: 2.6904 - val_mae: 1.0500\n",
            "Epoch 57/500\n",
            "260/260 [==============================] - 1s 3ms/step - loss: 4.0077 - mae: 1.2100 - val_loss: 5.5359 - val_mae: 1.5981\n",
            "Epoch 58/500\n",
            "260/260 [==============================] - 1s 3ms/step - loss: 3.8447 - mae: 1.1717 - val_loss: 4.1038 - val_mae: 1.2333\n",
            "Epoch 59/500\n",
            "260/260 [==============================] - 1s 3ms/step - loss: 4.1348 - mae: 1.1723 - val_loss: 1.6783 - val_mae: 0.8205\n",
            "Epoch 60/500\n",
            "260/260 [==============================] - 1s 3ms/step - loss: 3.5967 - mae: 1.0641 - val_loss: 9.1365 - val_mae: 1.7242\n",
            "Epoch 61/500\n",
            "260/260 [==============================] - 1s 3ms/step - loss: 3.5919 - mae: 1.1335 - val_loss: 4.0771 - val_mae: 1.3457\n",
            "Epoch 62/500\n",
            "260/260 [==============================] - 1s 3ms/step - loss: 4.0890 - mae: 1.1580 - val_loss: 2.9831 - val_mae: 1.0264\n",
            "Epoch 63/500\n",
            "260/260 [==============================] - 1s 3ms/step - loss: 2.6066 - mae: 0.9404 - val_loss: 2.2949 - val_mae: 0.8907\n",
            "Epoch 64/500\n",
            "260/260 [==============================] - 1s 3ms/step - loss: 4.1489 - mae: 1.1901 - val_loss: 3.0090 - val_mae: 1.1685\n",
            "Epoch 65/500\n",
            "260/260 [==============================] - 1s 3ms/step - loss: 4.2397 - mae: 1.2458 - val_loss: 10.0090 - val_mae: 2.0268\n",
            "Epoch 66/500\n",
            "260/260 [==============================] - 1s 3ms/step - loss: 3.6079 - mae: 1.1061 - val_loss: 5.1939 - val_mae: 1.6783\n",
            "Epoch 67/500\n",
            "260/260 [==============================] - 1s 3ms/step - loss: 3.8573 - mae: 1.1414 - val_loss: 5.2496 - val_mae: 1.4167\n",
            "Epoch 68/500\n",
            "260/260 [==============================] - 1s 3ms/step - loss: 3.2168 - mae: 1.0464 - val_loss: 4.3591 - val_mae: 1.1530\n",
            "Epoch 69/500\n",
            "260/260 [==============================] - 1s 3ms/step - loss: 3.9615 - mae: 1.2056 - val_loss: 1.9105 - val_mae: 0.7336\n",
            "Epoch 70/500\n",
            "260/260 [==============================] - 1s 3ms/step - loss: 5.5257 - mae: 1.3814 - val_loss: 29.8113 - val_mae: 3.2532\n",
            "Epoch 71/500\n",
            "260/260 [==============================] - 1s 3ms/step - loss: 4.7543 - mae: 1.2983 - val_loss: 1.4103 - val_mae: 0.6811\n",
            "Epoch 72/500\n",
            "260/260 [==============================] - 1s 3ms/step - loss: 3.3117 - mae: 1.0398 - val_loss: 5.3093 - val_mae: 1.4769\n",
            "Epoch 73/500\n",
            "260/260 [==============================] - 1s 3ms/step - loss: 4.0754 - mae: 1.2080 - val_loss: 1.1508 - val_mae: 0.5406\n",
            "Epoch 74/500\n",
            "260/260 [==============================] - 1s 3ms/step - loss: 3.5309 - mae: 1.0846 - val_loss: 8.5201 - val_mae: 1.8044\n",
            "Epoch 75/500\n",
            "260/260 [==============================] - 1s 3ms/step - loss: 4.5623 - mae: 1.2466 - val_loss: 3.4319 - val_mae: 1.1657\n",
            "Epoch 76/500\n",
            "260/260 [==============================] - 1s 3ms/step - loss: 2.2289 - mae: 0.8663 - val_loss: 2.6536 - val_mae: 1.0475\n",
            "Epoch 77/500\n",
            "260/260 [==============================] - 1s 3ms/step - loss: 4.0150 - mae: 1.2035 - val_loss: 4.5173 - val_mae: 1.3211\n",
            "Epoch 78/500\n",
            "260/260 [==============================] - 1s 3ms/step - loss: 4.7647 - mae: 1.3002 - val_loss: 2.7063 - val_mae: 0.8488\n",
            "Epoch 79/500\n",
            "260/260 [==============================] - 1s 3ms/step - loss: 4.5274 - mae: 1.2163 - val_loss: 5.0955 - val_mae: 1.6737\n",
            "Epoch 80/500\n",
            "260/260 [==============================] - 1s 3ms/step - loss: 3.2265 - mae: 1.0813 - val_loss: 4.4946 - val_mae: 1.1891\n",
            "Epoch 81/500\n",
            "260/260 [==============================] - 1s 3ms/step - loss: 2.6525 - mae: 0.9480 - val_loss: 6.5760 - val_mae: 1.4592\n",
            "Epoch 82/500\n",
            "260/260 [==============================] - 1s 3ms/step - loss: 4.4416 - mae: 1.2258 - val_loss: 4.1674 - val_mae: 1.4519\n",
            "Epoch 83/500\n",
            "260/260 [==============================] - 1s 3ms/step - loss: 4.0608 - mae: 1.2116 - val_loss: 2.4738 - val_mae: 1.0498\n",
            "Epoch 84/500\n",
            "260/260 [==============================] - 1s 3ms/step - loss: 3.1876 - mae: 1.0634 - val_loss: 17.7110 - val_mae: 2.4999\n",
            "Epoch 85/500\n",
            "260/260 [==============================] - 1s 3ms/step - loss: 4.7012 - mae: 1.2587 - val_loss: 1.4040 - val_mae: 0.6465\n",
            "Epoch 86/500\n",
            "260/260 [==============================] - 1s 3ms/step - loss: 3.1369 - mae: 1.0289 - val_loss: 3.8644 - val_mae: 1.3924\n",
            "Epoch 87/500\n",
            "260/260 [==============================] - 1s 3ms/step - loss: 3.3251 - mae: 1.0831 - val_loss: 1.9535 - val_mae: 0.8200\n",
            "Epoch 88/500\n",
            "260/260 [==============================] - 1s 3ms/step - loss: 3.9541 - mae: 1.2038 - val_loss: 4.6426 - val_mae: 1.2282\n",
            "Epoch 89/500\n",
            "260/260 [==============================] - 1s 3ms/step - loss: 5.4443 - mae: 1.3560 - val_loss: 2.1173 - val_mae: 0.8217\n",
            "Epoch 90/500\n",
            "260/260 [==============================] - 1s 3ms/step - loss: 2.9436 - mae: 0.9640 - val_loss: 3.3322 - val_mae: 1.1224\n",
            "Epoch 91/500\n",
            "260/260 [==============================] - 1s 3ms/step - loss: 4.5233 - mae: 1.2575 - val_loss: 6.7968 - val_mae: 1.7756\n",
            "Epoch 92/500\n",
            "260/260 [==============================] - 1s 3ms/step - loss: 3.5663 - mae: 1.1095 - val_loss: 14.8899 - val_mae: 2.4061\n",
            "Epoch 93/500\n",
            "260/260 [==============================] - 1s 3ms/step - loss: 4.5520 - mae: 1.2659 - val_loss: 2.5472 - val_mae: 0.9008\n",
            "Epoch 94/500\n",
            "260/260 [==============================] - 1s 3ms/step - loss: 2.6794 - mae: 0.9633 - val_loss: 2.3898 - val_mae: 0.9661\n",
            "Epoch 95/500\n",
            "260/260 [==============================] - 1s 3ms/step - loss: 4.0738 - mae: 1.1768 - val_loss: 2.4941 - val_mae: 0.9910\n",
            "Epoch 96/500\n",
            "260/260 [==============================] - 1s 3ms/step - loss: 3.7772 - mae: 1.1493 - val_loss: 1.5165 - val_mae: 0.7584\n",
            "Epoch 97/500\n",
            "260/260 [==============================] - 1s 3ms/step - loss: 3.7460 - mae: 1.1459 - val_loss: 1.9298 - val_mae: 0.8012\n",
            "Epoch 98/500\n",
            "260/260 [==============================] - 1s 3ms/step - loss: 3.6722 - mae: 1.1053 - val_loss: 15.0642 - val_mae: 2.4083\n",
            "Epoch 99/500\n",
            "260/260 [==============================] - 1s 3ms/step - loss: 4.0093 - mae: 1.1874 - val_loss: 2.5473 - val_mae: 1.0777\n",
            "Epoch 100/500\n",
            "260/260 [==============================] - 1s 3ms/step - loss: 3.2379 - mae: 1.0376 - val_loss: 3.2367 - val_mae: 1.1524\n",
            "Epoch 101/500\n",
            "260/260 [==============================] - 1s 3ms/step - loss: 3.3358 - mae: 1.0841 - val_loss: 4.4312 - val_mae: 1.3289\n",
            "Epoch 102/500\n",
            "260/260 [==============================] - 1s 3ms/step - loss: 2.6662 - mae: 0.9521 - val_loss: 2.7426 - val_mae: 1.1304\n",
            "Epoch 103/500\n",
            "260/260 [==============================] - 1s 3ms/step - loss: 3.4451 - mae: 1.1003 - val_loss: 7.5032 - val_mae: 1.6427\n",
            "Epoch 104/500\n",
            "260/260 [==============================] - 1s 3ms/step - loss: 3.0593 - mae: 1.0493 - val_loss: 2.7098 - val_mae: 1.0336\n",
            "Epoch 105/500\n",
            "260/260 [==============================] - 1s 3ms/step - loss: 2.3750 - mae: 0.9052 - val_loss: 1.8378 - val_mae: 0.9457\n",
            "Epoch 106/500\n",
            "260/260 [==============================] - 1s 3ms/step - loss: 2.8288 - mae: 1.0213 - val_loss: 2.2892 - val_mae: 0.8615\n",
            "Epoch 107/500\n",
            "260/260 [==============================] - 1s 3ms/step - loss: 3.1305 - mae: 1.0659 - val_loss: 1.7159 - val_mae: 0.8742\n",
            "Epoch 108/500\n",
            "260/260 [==============================] - 1s 3ms/step - loss: 3.8334 - mae: 1.1657 - val_loss: 2.9445 - val_mae: 1.0022\n",
            "Epoch 109/500\n",
            "260/260 [==============================] - 1s 3ms/step - loss: 4.1164 - mae: 1.1853 - val_loss: 13.8565 - val_mae: 2.4031\n",
            "Epoch 110/500\n",
            "260/260 [==============================] - 1s 3ms/step - loss: 3.6702 - mae: 1.0889 - val_loss: 7.3795 - val_mae: 1.6741\n",
            "Epoch 111/500\n",
            "260/260 [==============================] - 1s 3ms/step - loss: 3.9405 - mae: 1.0949 - val_loss: 4.1550 - val_mae: 1.3847\n",
            "Epoch 112/500\n",
            "260/260 [==============================] - 1s 3ms/step - loss: 3.5714 - mae: 1.1080 - val_loss: 13.7621 - val_mae: 2.5507\n",
            "Epoch 113/500\n",
            "260/260 [==============================] - 1s 3ms/step - loss: 4.5413 - mae: 1.2768 - val_loss: 6.0279 - val_mae: 1.6051\n",
            "Epoch 114/500\n",
            "260/260 [==============================] - 1s 3ms/step - loss: 4.5476 - mae: 1.2433 - val_loss: 12.9582 - val_mae: 2.5594\n",
            "Epoch 115/500\n",
            "260/260 [==============================] - 1s 3ms/step - loss: 2.9783 - mae: 0.9902 - val_loss: 14.5200 - val_mae: 2.5181\n",
            "Epoch 116/500\n",
            "260/260 [==============================] - 1s 3ms/step - loss: 3.3826 - mae: 1.0760 - val_loss: 10.8487 - val_mae: 2.0416\n",
            "Epoch 117/500\n",
            "260/260 [==============================] - 1s 3ms/step - loss: 2.9858 - mae: 0.9930 - val_loss: 4.6356 - val_mae: 1.3400\n",
            "Epoch 118/500\n",
            "260/260 [==============================] - 1s 3ms/step - loss: 3.9713 - mae: 1.1626 - val_loss: 1.5516 - val_mae: 0.7298\n",
            "Epoch 119/500\n",
            "260/260 [==============================] - 1s 3ms/step - loss: 3.0142 - mae: 1.0169 - val_loss: 2.8137 - val_mae: 1.0285\n",
            "Epoch 120/500\n",
            "260/260 [==============================] - 1s 3ms/step - loss: 3.5374 - mae: 1.0664 - val_loss: 8.6343 - val_mae: 1.9411\n",
            "Epoch 121/500\n",
            "260/260 [==============================] - 1s 3ms/step - loss: 4.1067 - mae: 1.2131 - val_loss: 2.9368 - val_mae: 1.2535\n",
            "Epoch 122/500\n",
            "260/260 [==============================] - 1s 3ms/step - loss: 3.2775 - mae: 1.0387 - val_loss: 3.1738 - val_mae: 1.0694\n",
            "Epoch 123/500\n",
            "260/260 [==============================] - 1s 3ms/step - loss: 2.5071 - mae: 0.9327 - val_loss: 2.2590 - val_mae: 0.8567\n"
          ]
        }
      ]
    },
    {
      "cell_type": "code",
      "source": [
        "# Đánh giá độ chính xác của mô hình sau khi đã train \n",
        "Score=model.evaluate(x_test,y_test,verbose=0)\n",
        "print('Test Loss', Score[0])\n",
        "print('Test mean absolute error', Score[1])"
      ],
      "metadata": {
        "colab": {
          "base_uri": "https://localhost:8080/"
        },
        "id": "hSkm3oYs24Rk",
        "outputId": "38591890-e608-4b44-e964-7ff71dcf806b"
      },
      "execution_count": null,
      "outputs": [
        {
          "output_type": "stream",
          "name": "stdout",
          "text": [
            "Test Loss 2.1065895557403564\n",
            "Test mean absolute error 0.8432028293609619\n"
          ]
        }
      ]
    },
    {
      "cell_type": "code",
      "source": [
        "# Vẽ đồ thị giữa số lần học (Epochs) và sai số trung bình tuyệt đối (Mean absolute error)\n",
        "plt.plot(history.history['mae'])\n",
        "plt.plot(history.history['val_mae'])\n",
        "plt.title('MODEL MEAN ABSOLUTE ERROR')\n",
        "plt.ylabel('Mean absolute error')\n",
        "plt.xlabel('Epochs')\n",
        "plt.legend(['Train','Validation'])\n",
        "plt.show"
      ],
      "metadata": {
        "colab": {
          "base_uri": "https://localhost:8080/",
          "height": 312
        },
        "id": "QnT-c5LC3KhO",
        "outputId": "f45aedf1-e095-4cf0-94ff-aab63d493f7f"
      },
      "execution_count": null,
      "outputs": [
        {
          "output_type": "execute_result",
          "data": {
            "text/plain": [
              "<function matplotlib.pyplot.show>"
            ]
          },
          "metadata": {},
          "execution_count": 24
        },
        {
          "output_type": "display_data",
          "data": {
            "text/plain": [
              "<Figure size 432x288 with 1 Axes>"
            ],
            "image/png": "[encoded data removed]"
          },
          "metadata": {
            "needs_background": "light"
          }
        }
      ]
    },
    {
      "cell_type": "code",
      "source": [
        "# Dự doán bộ dữ liệu test và xem sai lệch giữa đầu ra của dữ liệu train và test\n",
        "predictions=model.predict(x_test)\n",
        "y_test=np.array(y_test)\n",
        "print(\"Predicted values are:\", predictions[6])\n",
        "print(\"Real values are:\",y_test[6])\n"
      ],
      "metadata": {
        "colab": {
          "base_uri": "https://localhost:8080/"
        },
        "id": "Zehy_C0_GMCy",
        "outputId": "515d8c1b-7e01-4721-a485-b24bb2018b9e"
      },
      "execution_count": null,
      "outputs": [
        {
          "output_type": "stream",
          "name": "stdout",
          "text": [
            "Predicted values are: [108.29927  108.110504]\n",
            "Real values are: [108. 108.]\n"
          ]
        }
      ]
    },
    {
      "cell_type": "code",
      "source": [
        ""
      ],
      "metadata": {
        "id": "fpoCz9OJ1Ulm"
      },
      "execution_count": null,
      "outputs": []
    },
    {
      "cell_type": "code",
      "source": [
        "# Chuyển sang pdf\n",
        "from google.colab import drive\n",
        "drive.mount('/content/drive')\n",
        "!sudo apt-get install texlive-xetex texlive-fonts-recommended texlive-generic-recommended\n",
        "!wget -nc https://raw.githubusercontent.com/brpy/colab-pdf/master/colab_pdf.py\n",
        "from colab_pdf import colab_pdf\n",
        "colab_pdf('ROBOT 2DOF.ipynb')"
      ],
      "metadata": {
        "id": "DywvAtBNOFW6"
      },
      "execution_count": null,
      "outputs": []
    }
  ]
}