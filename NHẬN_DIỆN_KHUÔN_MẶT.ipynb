{
  "nbformat": 4,
  "nbformat_minor": 0,
  "metadata": {
    "colab": {
      "name": "NHẬN DIỆN KHUÔN MẶT.ipynb",
      "provenance": []
    },
    "kernelspec": {
      "name": "python3",
      "display_name": "Python 3"
    },
    "language_info": {
      "name": "python"
    },
    "accelerator": "GPU"
  },
  "cells": [
    {
      "cell_type": "code",
      "execution_count": null,
      "metadata": {
        "id": "RWGNC5MWb_BO"
      },
      "outputs": [],
      "source": [
        "# Khai báo và sử dụng các thư viện sau\n",
        "from sklearn.model_selection import train_test_split\n",
        "import matplotlib.pyplot as plt\n",
        "import numpy as np\n",
        "import tensorflow as tf\n",
        "from keras.utils import np_utils\n",
        "from keras.models import Sequential\n",
        "from keras.layers import Dense, Activation, Dropout, Conv2D, MaxPooling2D, Flatten\n",
        "from tensorflow.keras.optimizers import SGD, RMSprop\n",
        "from keras.callbacks import EarlyStopping\n",
        "from sklearn.utils import validation \n",
        "from sklearn import preprocessing\n",
        "from tensorflow.keras.utils import to_categorical\n",
        "from tensorflow.keras.models import load_model\n",
        "from tensorflow.keras.utils import load_img, img_to_array"
      ]
    },
    {
      "cell_type": "code",
      "source": [
        "# Chuyển đến file Google Drive chứa bộ ảnh đã tạo\n",
        "%cd\"/content/drive/MyDrive/Colab Notebooks/BTVN/Nhan_dien_khuon_mat/\""
      ],
      "metadata": {
        "colab": {
          "base_uri": "https://localhost:8080/"
        },
        "id": "HZogIzPBcVfw",
        "outputId": "d12f4598-e04f-4411-ddfa-999528a1a865"
      },
      "execution_count": null,
      "outputs": [
        {
          "output_type": "stream",
          "name": "stdout",
          "text": [
            "/content/drive/MyDrive/Colab Notebooks/BTVN/Nhan_dien_khuon_mat\n"
          ]
        }
      ]
    },
    {
      "cell_type": "code",
      "source": [
        "# Tạo ra class ImageDataGenerator để chỉnh sửa ảnh \n",
        "from tensorflow.keras.preprocessing.image import ImageDataGenerator\n",
        "train_datagen=ImageDataGenerator(rescale=1./255, shear_range=0.2, zoom_range=0.2, horizontal_flip=True)"
      ],
      "metadata": {
        "id": "06CNh7gqc_o-"
      },
      "execution_count": null,
      "outputs": []
    },
    {
      "cell_type": "code",
      "source": [
        "# Tạo bộ dữ liệu training set\n",
        "training_set=train_datagen.flow_from_directory('/content/drive/MyDrive/Colab Notebooks/BTVN/Nhan_dien_khuon_mat/Training_set',target_size=(150,150), batch_size=32, class_mode='categorical')"
      ],
      "metadata": {
        "colab": {
          "base_uri": "https://localhost:8080/"
        },
        "id": "KY3jOzlPeo4N",
        "outputId": "22d02ccb-4b49-4272-95fb-da4500c62d6c"
      },
      "execution_count": null,
      "outputs": [
        {
          "output_type": "stream",
          "name": "stdout",
          "text": [
            "Found 92 images belonging to 2 classes.\n"
          ]
        }
      ]
    },
    {
      "cell_type": "code",
      "source": [
        "# Các nhãn có trong bộ dữ liệu training set\n",
        "training_set.class_indices"
      ],
      "metadata": {
        "colab": {
          "base_uri": "https://localhost:8080/"
        },
        "id": "cMAAt77gKkNu",
        "outputId": "3899d3b8-f2ab-46da-b72a-71d42d8ade5b"
      },
      "execution_count": null,
      "outputs": [
        {
          "output_type": "execute_result",
          "data": {
            "text/plain": [
              "{'CO': 0, 'KHONG': 1}"
            ]
          },
          "metadata": {},
          "execution_count": 5
        }
      ]
    },
    {
      "cell_type": "code",
      "source": [
        "# Tạo ra dữ liệu đầu vào và đầu ra từ bộ dữ liệu training set\n",
        "x_train,y_train=next(training_set)"
      ],
      "metadata": {
        "id": "lTEGtUsBlGKG"
      },
      "execution_count": null,
      "outputs": []
    },
    {
      "cell_type": "code",
      "source": [
        "x_train.shape"
      ],
      "metadata": {
        "colab": {
          "base_uri": "https://localhost:8080/"
        },
        "id": "U4NfYmOhuQX3",
        "outputId": "2b9afc49-bb0c-4614-e27d-89328768c920"
      },
      "execution_count": null,
      "outputs": [
        {
          "output_type": "execute_result",
          "data": {
            "text/plain": [
              "(32, 150, 150, 3)"
            ]
          },
          "metadata": {},
          "execution_count": 7
        }
      ]
    },
    {
      "cell_type": "code",
      "source": [
        "y_train.shape"
      ],
      "metadata": {
        "colab": {
          "base_uri": "https://localhost:8080/"
        },
        "id": "zW0uVfy-0Dww",
        "outputId": "0b84e3da-1ea4-4d46-c7f1-0641ff66d302"
      },
      "execution_count": null,
      "outputs": [
        {
          "output_type": "execute_result",
          "data": {
            "text/plain": [
              "(32, 2)"
            ]
          },
          "metadata": {},
          "execution_count": 8
        }
      ]
    },
    {
      "cell_type": "code",
      "source": [
        "# Xử lý dữ liệu training\n",
        "x_train=x_train.reshape(32,67500)\n",
        "x_train=x_train.astype ('float32')\n",
        "x_train=x_train/255"
      ],
      "metadata": {
        "id": "j-yXWXAyDHe3"
      },
      "execution_count": null,
      "outputs": []
    },
    {
      "cell_type": "code",
      "source": [
        "x_train.shape"
      ],
      "metadata": {
        "colab": {
          "base_uri": "https://localhost:8080/"
        },
        "id": "eb-diYJTuZXO",
        "outputId": "ad844632-358f-4e86-99a5-8d4f192dfb84"
      },
      "execution_count": null,
      "outputs": [
        {
          "output_type": "execute_result",
          "data": {
            "text/plain": [
              "(32, 67500)"
            ]
          },
          "metadata": {},
          "execution_count": 10
        }
      ]
    },
    {
      "cell_type": "code",
      "source": [
        "y_train.shape"
      ],
      "metadata": {
        "colab": {
          "base_uri": "https://localhost:8080/"
        },
        "id": "qnLkYTO4FrSq",
        "outputId": "67aad611-d1aa-4518-8d65-559cbec84809"
      },
      "execution_count": null,
      "outputs": [
        {
          "output_type": "execute_result",
          "data": {
            "text/plain": [
              "(32, 2)"
            ]
          },
          "metadata": {},
          "execution_count": 11
        }
      ]
    },
    {
      "cell_type": "code",
      "source": [
        "# Tạo ra mạng ANN để train mô hình\n",
        "model=Sequential()\n",
        "# Tạo lớp ẩn thứ nhất với 3072 tín hiệu vào và có 4 tín hiệu ra sử dụng hàm relu\n",
        "model.add(Dense(4,activation='relu',input_shape=(67500,)))\n",
        "# Tạo lớp ẩn thứ hai với 4 tín hiệu vào và có 50 tín hiệu ra sử dụng hàm relu\n",
        "model.add(Dense(50,activation='relu'))\n",
        "# Tạo lớp ẩn thứ ba với 50 tín hiệu vào và có 50 tín hiệu ra sử dụng hàm relu\n",
        "model.add(Dense(50,activation='relu'))\n",
        "# Tạo lớp ẩn thứ tư với 50 tín hiệu vào, 2 tín hiệu ra ra sử dụng hàm softmax\n",
        "model.add(Dense(2,activation='softmax'))\n",
        "model.summary()"
      ],
      "metadata": {
        "colab": {
          "base_uri": "https://localhost:8080/"
        },
        "id": "9rmY6QapfA51",
        "outputId": "fdbcb36d-72ea-4b55-ef04-c98879fe674d"
      },
      "execution_count": null,
      "outputs": [
        {
          "output_type": "stream",
          "name": "stdout",
          "text": [
            "Model: \"sequential_4\"\n",
            "_________________________________________________________________\n",
            " Layer (type)                Output Shape              Param #   \n",
            "=================================================================\n",
            " dense_16 (Dense)            (None, 4)                 270004    \n",
            "                                                                 \n",
            " dense_17 (Dense)            (None, 50)                250       \n",
            "                                                                 \n",
            " dense_18 (Dense)            (None, 50)                2550      \n",
            "                                                                 \n",
            " dense_19 (Dense)            (None, 2)                 102       \n",
            "                                                                 \n",
            "=================================================================\n",
            "Total params: 272,906\n",
            "Trainable params: 272,906\n",
            "Non-trainable params: 0\n",
            "_________________________________________________________________\n"
          ]
        }
      ]
    },
    {
      "cell_type": "code",
      "source": [
        "# Biên dịch \n",
        "model.compile(loss='categorical_crossentropy',optimizer=RMSprop(), metrics=[\"accuracy\"])\n",
        "# Gán biến lại để vẽ đồ thị, với 500 lần học (epochs), mỗi lần học thì chỉ học␣10 dữ liệu (batch_size), khi sai số không thay đổi trong 20 lần học thì sẽ␣ dừng học \n",
        "history=model.fit(x_train,y_train,epochs=500, batch_size=10,verbose=1, validation_split=0.2, callbacks=[EarlyStopping(monitor='val_loss', patience=20)])"
      ],
      "metadata": {
        "colab": {
          "base_uri": "https://localhost:8080/"
        },
        "id": "4tx2veI1iVr2",
        "outputId": "0ea35354-9816-4dad-f85d-d9e32cc5301c"
      },
      "execution_count": null,
      "outputs": [
        {
          "output_type": "stream",
          "name": "stdout",
          "text": [
            "Epoch 1/500\n",
            "3/3 [==============================] - 1s 114ms/step - loss: 0.6844 - accuracy: 0.6000 - val_loss: 0.7066 - val_accuracy: 0.4286\n",
            "Epoch 2/500\n",
            "3/3 [==============================] - 0s 24ms/step - loss: 0.6460 - accuracy: 0.6000 - val_loss: 0.7329 - val_accuracy: 0.4286\n",
            "Epoch 3/500\n",
            "3/3 [==============================] - 0s 21ms/step - loss: 0.6124 - accuracy: 0.6000 - val_loss: 0.7026 - val_accuracy: 0.4286\n",
            "Epoch 4/500\n",
            "3/3 [==============================] - 0s 22ms/step - loss: 0.5885 - accuracy: 0.6000 - val_loss: 0.7070 - val_accuracy: 0.4286\n",
            "Epoch 5/500\n",
            "3/3 [==============================] - 0s 18ms/step - loss: 0.5676 - accuracy: 0.6000 - val_loss: 0.6621 - val_accuracy: 0.4286\n",
            "Epoch 6/500\n",
            "3/3 [==============================] - 0s 19ms/step - loss: 0.5334 - accuracy: 0.6000 - val_loss: 0.6735 - val_accuracy: 0.4286\n",
            "Epoch 7/500\n",
            "3/3 [==============================] - 0s 20ms/step - loss: 0.5077 - accuracy: 0.6000 - val_loss: 0.5737 - val_accuracy: 0.5714\n",
            "Epoch 8/500\n",
            "3/3 [==============================] - 0s 18ms/step - loss: 0.4836 - accuracy: 0.8000 - val_loss: 0.6129 - val_accuracy: 0.4286\n",
            "Epoch 9/500\n",
            "3/3 [==============================] - 0s 21ms/step - loss: 0.4606 - accuracy: 0.7200 - val_loss: 0.5345 - val_accuracy: 0.5714\n",
            "Epoch 10/500\n",
            "3/3 [==============================] - 0s 18ms/step - loss: 0.4153 - accuracy: 0.9600 - val_loss: 0.6476 - val_accuracy: 0.4286\n",
            "Epoch 11/500\n",
            "3/3 [==============================] - 0s 19ms/step - loss: 0.4166 - accuracy: 0.6800 - val_loss: 0.5355 - val_accuracy: 0.5714\n",
            "Epoch 12/500\n",
            "3/3 [==============================] - 0s 19ms/step - loss: 0.3772 - accuracy: 0.8800 - val_loss: 0.5362 - val_accuracy: 0.5714\n",
            "Epoch 13/500\n",
            "3/3 [==============================] - 0s 20ms/step - loss: 0.3568 - accuracy: 0.8800 - val_loss: 0.5104 - val_accuracy: 0.5714\n",
            "Epoch 14/500\n",
            "3/3 [==============================] - 0s 18ms/step - loss: 0.3360 - accuracy: 0.9600 - val_loss: 0.4748 - val_accuracy: 0.5714\n",
            "Epoch 15/500\n",
            "3/3 [==============================] - 0s 18ms/step - loss: 0.3270 - accuracy: 0.9600 - val_loss: 0.4584 - val_accuracy: 0.5714\n",
            "Epoch 16/500\n",
            "3/3 [==============================] - 0s 20ms/step - loss: 0.3260 - accuracy: 0.9600 - val_loss: 0.4280 - val_accuracy: 0.7143\n",
            "Epoch 17/500\n",
            "3/3 [==============================] - 0s 17ms/step - loss: 0.2907 - accuracy: 0.9600 - val_loss: 0.4480 - val_accuracy: 0.5714\n",
            "Epoch 18/500\n",
            "3/3 [==============================] - 0s 19ms/step - loss: 0.2772 - accuracy: 1.0000 - val_loss: 0.3704 - val_accuracy: 1.0000\n",
            "Epoch 19/500\n",
            "3/3 [==============================] - 0s 24ms/step - loss: 0.2625 - accuracy: 1.0000 - val_loss: 0.4518 - val_accuracy: 0.5714\n",
            "Epoch 20/500\n",
            "3/3 [==============================] - 0s 25ms/step - loss: 0.2763 - accuracy: 0.9600 - val_loss: 0.3884 - val_accuracy: 0.8571\n",
            "Epoch 21/500\n",
            "3/3 [==============================] - 0s 19ms/step - loss: 0.2546 - accuracy: 0.9600 - val_loss: 0.3675 - val_accuracy: 1.0000\n",
            "Epoch 22/500\n",
            "3/3 [==============================] - 0s 22ms/step - loss: 0.2468 - accuracy: 0.9600 - val_loss: 0.3374 - val_accuracy: 1.0000\n",
            "Epoch 23/500\n",
            "3/3 [==============================] - 0s 18ms/step - loss: 0.2238 - accuracy: 1.0000 - val_loss: 0.3306 - val_accuracy: 1.0000\n",
            "Epoch 24/500\n",
            "3/3 [==============================] - 0s 17ms/step - loss: 0.2216 - accuracy: 0.9600 - val_loss: 0.2884 - val_accuracy: 1.0000\n",
            "Epoch 25/500\n",
            "3/3 [==============================] - 0s 17ms/step - loss: 0.2061 - accuracy: 1.0000 - val_loss: 0.3089 - val_accuracy: 1.0000\n",
            "Epoch 26/500\n",
            "3/3 [==============================] - 0s 18ms/step - loss: 0.1968 - accuracy: 1.0000 - val_loss: 0.2706 - val_accuracy: 1.0000\n",
            "Epoch 27/500\n",
            "3/3 [==============================] - 0s 21ms/step - loss: 0.1888 - accuracy: 1.0000 - val_loss: 0.2615 - val_accuracy: 1.0000\n",
            "Epoch 28/500\n",
            "3/3 [==============================] - 0s 19ms/step - loss: 0.1893 - accuracy: 1.0000 - val_loss: 0.2404 - val_accuracy: 1.0000\n",
            "Epoch 29/500\n",
            "3/3 [==============================] - 0s 21ms/step - loss: 0.1738 - accuracy: 1.0000 - val_loss: 0.2294 - val_accuracy: 1.0000\n",
            "Epoch 30/500\n",
            "3/3 [==============================] - 0s 20ms/step - loss: 0.1657 - accuracy: 1.0000 - val_loss: 0.2292 - val_accuracy: 1.0000\n",
            "Epoch 31/500\n",
            "3/3 [==============================] - 0s 18ms/step - loss: 0.1610 - accuracy: 1.0000 - val_loss: 0.2074 - val_accuracy: 1.0000\n",
            "Epoch 32/500\n",
            "3/3 [==============================] - 0s 17ms/step - loss: 0.1479 - accuracy: 1.0000 - val_loss: 0.2178 - val_accuracy: 1.0000\n",
            "Epoch 33/500\n",
            "3/3 [==============================] - 0s 18ms/step - loss: 0.1414 - accuracy: 1.0000 - val_loss: 0.1944 - val_accuracy: 1.0000\n",
            "Epoch 34/500\n",
            "3/3 [==============================] - 0s 18ms/step - loss: 0.1358 - accuracy: 1.0000 - val_loss: 0.1829 - val_accuracy: 1.0000\n",
            "Epoch 35/500\n",
            "3/3 [==============================] - 0s 18ms/step - loss: 0.1243 - accuracy: 1.0000 - val_loss: 0.1672 - val_accuracy: 1.0000\n",
            "Epoch 36/500\n",
            "3/3 [==============================] - 0s 19ms/step - loss: 0.1170 - accuracy: 1.0000 - val_loss: 0.1635 - val_accuracy: 1.0000\n",
            "Epoch 37/500\n",
            "3/3 [==============================] - 0s 19ms/step - loss: 0.1150 - accuracy: 1.0000 - val_loss: 0.1483 - val_accuracy: 1.0000\n",
            "Epoch 38/500\n",
            "3/3 [==============================] - 0s 20ms/step - loss: 0.1028 - accuracy: 1.0000 - val_loss: 0.1421 - val_accuracy: 1.0000\n",
            "Epoch 39/500\n",
            "3/3 [==============================] - 0s 16ms/step - loss: 0.0987 - accuracy: 1.0000 - val_loss: 0.1351 - val_accuracy: 1.0000\n",
            "Epoch 40/500\n",
            "3/3 [==============================] - 0s 17ms/step - loss: 0.0899 - accuracy: 1.0000 - val_loss: 0.1265 - val_accuracy: 1.0000\n",
            "Epoch 41/500\n",
            "3/3 [==============================] - 0s 19ms/step - loss: 0.0841 - accuracy: 1.0000 - val_loss: 0.1332 - val_accuracy: 1.0000\n",
            "Epoch 42/500\n",
            "3/3 [==============================] - 0s 21ms/step - loss: 0.0824 - accuracy: 1.0000 - val_loss: 0.1108 - val_accuracy: 1.0000\n",
            "Epoch 43/500\n",
            "3/3 [==============================] - 0s 17ms/step - loss: 0.0738 - accuracy: 1.0000 - val_loss: 0.1099 - val_accuracy: 1.0000\n",
            "Epoch 44/500\n",
            "3/3 [==============================] - 0s 17ms/step - loss: 0.0692 - accuracy: 1.0000 - val_loss: 0.0928 - val_accuracy: 1.0000\n",
            "Epoch 45/500\n",
            "3/3 [==============================] - 0s 17ms/step - loss: 0.0634 - accuracy: 1.0000 - val_loss: 0.0956 - val_accuracy: 1.0000\n",
            "Epoch 46/500\n",
            "3/3 [==============================] - 0s 17ms/step - loss: 0.0596 - accuracy: 1.0000 - val_loss: 0.0932 - val_accuracy: 1.0000\n",
            "Epoch 47/500\n",
            "3/3 [==============================] - 0s 16ms/step - loss: 0.0548 - accuracy: 1.0000 - val_loss: 0.0724 - val_accuracy: 1.0000\n",
            "Epoch 48/500\n",
            "3/3 [==============================] - 0s 19ms/step - loss: 0.0500 - accuracy: 1.0000 - val_loss: 0.0664 - val_accuracy: 1.0000\n",
            "Epoch 49/500\n",
            "3/3 [==============================] - 0s 17ms/step - loss: 0.0459 - accuracy: 1.0000 - val_loss: 0.0883 - val_accuracy: 1.0000\n",
            "Epoch 50/500\n",
            "3/3 [==============================] - 0s 19ms/step - loss: 0.0478 - accuracy: 1.0000 - val_loss: 0.0642 - val_accuracy: 1.0000\n",
            "Epoch 51/500\n",
            "3/3 [==============================] - 0s 18ms/step - loss: 0.0390 - accuracy: 1.0000 - val_loss: 0.0561 - val_accuracy: 1.0000\n",
            "Epoch 52/500\n",
            "3/3 [==============================] - 0s 17ms/step - loss: 0.0359 - accuracy: 1.0000 - val_loss: 0.0571 - val_accuracy: 1.0000\n",
            "Epoch 53/500\n",
            "3/3 [==============================] - 0s 19ms/step - loss: 0.0335 - accuracy: 1.0000 - val_loss: 0.0449 - val_accuracy: 1.0000\n",
            "Epoch 54/500\n",
            "3/3 [==============================] - 0s 19ms/step - loss: 0.0308 - accuracy: 1.0000 - val_loss: 0.0449 - val_accuracy: 1.0000\n",
            "Epoch 55/500\n",
            "3/3 [==============================] - 0s 18ms/step - loss: 0.0280 - accuracy: 1.0000 - val_loss: 0.0477 - val_accuracy: 1.0000\n",
            "Epoch 56/500\n",
            "3/3 [==============================] - 0s 19ms/step - loss: 0.0269 - accuracy: 1.0000 - val_loss: 0.0373 - val_accuracy: 1.0000\n",
            "Epoch 57/500\n",
            "3/3 [==============================] - 0s 18ms/step - loss: 0.0240 - accuracy: 1.0000 - val_loss: 0.0373 - val_accuracy: 1.0000\n",
            "Epoch 58/500\n",
            "3/3 [==============================] - 0s 21ms/step - loss: 0.0219 - accuracy: 1.0000 - val_loss: 0.0324 - val_accuracy: 1.0000\n",
            "Epoch 59/500\n",
            "3/3 [==============================] - 0s 17ms/step - loss: 0.0198 - accuracy: 1.0000 - val_loss: 0.0383 - val_accuracy: 1.0000\n",
            "Epoch 60/500\n",
            "3/3 [==============================] - 0s 21ms/step - loss: 0.0185 - accuracy: 1.0000 - val_loss: 0.0246 - val_accuracy: 1.0000\n",
            "Epoch 61/500\n",
            "3/3 [==============================] - 0s 19ms/step - loss: 0.0172 - accuracy: 1.0000 - val_loss: 0.0259 - val_accuracy: 1.0000\n",
            "Epoch 62/500\n",
            "3/3 [==============================] - 0s 18ms/step - loss: 0.0146 - accuracy: 1.0000 - val_loss: 0.0268 - val_accuracy: 1.0000\n",
            "Epoch 63/500\n",
            "3/3 [==============================] - 0s 20ms/step - loss: 0.0133 - accuracy: 1.0000 - val_loss: 0.0181 - val_accuracy: 1.0000\n",
            "Epoch 64/500\n",
            "3/3 [==============================] - 0s 17ms/step - loss: 0.0124 - accuracy: 1.0000 - val_loss: 0.0191 - val_accuracy: 1.0000\n",
            "Epoch 65/500\n",
            "3/3 [==============================] - 0s 17ms/step - loss: 0.0110 - accuracy: 1.0000 - val_loss: 0.0224 - val_accuracy: 1.0000\n",
            "Epoch 66/500\n",
            "3/3 [==============================] - 0s 19ms/step - loss: 0.0102 - accuracy: 1.0000 - val_loss: 0.0156 - val_accuracy: 1.0000\n",
            "Epoch 67/500\n",
            "3/3 [==============================] - 0s 18ms/step - loss: 0.0107 - accuracy: 1.0000 - val_loss: 0.0152 - val_accuracy: 1.0000\n",
            "Epoch 68/500\n",
            "3/3 [==============================] - 0s 17ms/step - loss: 0.0080 - accuracy: 1.0000 - val_loss: 0.0138 - val_accuracy: 1.0000\n",
            "Epoch 69/500\n",
            "3/3 [==============================] - 0s 18ms/step - loss: 0.0071 - accuracy: 1.0000 - val_loss: 0.0161 - val_accuracy: 1.0000\n",
            "Epoch 70/500\n",
            "3/3 [==============================] - 0s 18ms/step - loss: 0.0064 - accuracy: 1.0000 - val_loss: 0.0130 - val_accuracy: 1.0000\n",
            "Epoch 71/500\n",
            "3/3 [==============================] - 0s 17ms/step - loss: 0.0059 - accuracy: 1.0000 - val_loss: 0.0118 - val_accuracy: 1.0000\n",
            "Epoch 72/500\n",
            "3/3 [==============================] - 0s 74ms/step - loss: 0.0053 - accuracy: 1.0000 - val_loss: 0.0101 - val_accuracy: 1.0000\n",
            "Epoch 73/500\n",
            "3/3 [==============================] - 0s 61ms/step - loss: 0.0049 - accuracy: 1.0000 - val_loss: 0.0066 - val_accuracy: 1.0000\n",
            "Epoch 74/500\n",
            "3/3 [==============================] - 0s 58ms/step - loss: 0.0043 - accuracy: 1.0000 - val_loss: 0.0068 - val_accuracy: 1.0000\n",
            "Epoch 75/500\n",
            "3/3 [==============================] - 0s 58ms/step - loss: 0.0038 - accuracy: 1.0000 - val_loss: 0.0080 - val_accuracy: 1.0000\n",
            "Epoch 76/500\n",
            "3/3 [==============================] - 0s 45ms/step - loss: 0.0034 - accuracy: 1.0000 - val_loss: 0.0078 - val_accuracy: 1.0000\n",
            "Epoch 77/500\n",
            "3/3 [==============================] - 0s 54ms/step - loss: 0.0031 - accuracy: 1.0000 - val_loss: 0.0043 - val_accuracy: 1.0000\n",
            "Epoch 78/500\n",
            "3/3 [==============================] - 0s 33ms/step - loss: 0.0027 - accuracy: 1.0000 - val_loss: 0.0051 - val_accuracy: 1.0000\n",
            "Epoch 79/500\n",
            "3/3 [==============================] - 0s 19ms/step - loss: 0.0024 - accuracy: 1.0000 - val_loss: 0.0075 - val_accuracy: 1.0000\n",
            "Epoch 80/500\n",
            "3/3 [==============================] - 0s 19ms/step - loss: 0.0023 - accuracy: 1.0000 - val_loss: 0.0028 - val_accuracy: 1.0000\n",
            "Epoch 81/500\n",
            "3/3 [==============================] - 0s 22ms/step - loss: 0.0020 - accuracy: 1.0000 - val_loss: 0.0044 - val_accuracy: 1.0000\n",
            "Epoch 82/500\n",
            "3/3 [==============================] - 0s 19ms/step - loss: 0.0017 - accuracy: 1.0000 - val_loss: 0.0023 - val_accuracy: 1.0000\n",
            "Epoch 83/500\n",
            "3/3 [==============================] - 0s 21ms/step - loss: 0.0016 - accuracy: 1.0000 - val_loss: 0.0038 - val_accuracy: 1.0000\n",
            "Epoch 84/500\n",
            "3/3 [==============================] - 0s 19ms/step - loss: 0.0013 - accuracy: 1.0000 - val_loss: 0.0048 - val_accuracy: 1.0000\n",
            "Epoch 85/500\n",
            "3/3 [==============================] - 0s 19ms/step - loss: 0.0016 - accuracy: 1.0000 - val_loss: 0.0041 - val_accuracy: 1.0000\n",
            "Epoch 86/500\n",
            "3/3 [==============================] - 0s 75ms/step - loss: 0.0012 - accuracy: 1.0000 - val_loss: 0.0015 - val_accuracy: 1.0000\n",
            "Epoch 87/500\n",
            "3/3 [==============================] - 0s 61ms/step - loss: 0.0010 - accuracy: 1.0000 - val_loss: 0.0015 - val_accuracy: 1.0000\n",
            "Epoch 88/500\n",
            "3/3 [==============================] - 0s 53ms/step - loss: 8.9211e-04 - accuracy: 1.0000 - val_loss: 0.0014 - val_accuracy: 1.0000\n",
            "Epoch 89/500\n",
            "3/3 [==============================] - 0s 58ms/step - loss: 7.9108e-04 - accuracy: 1.0000 - val_loss: 0.0015 - val_accuracy: 1.0000\n",
            "Epoch 90/500\n",
            "3/3 [==============================] - 0s 42ms/step - loss: 6.9248e-04 - accuracy: 1.0000 - val_loss: 0.0018 - val_accuracy: 1.0000\n",
            "Epoch 91/500\n",
            "3/3 [==============================] - 0s 46ms/step - loss: 5.9296e-04 - accuracy: 1.0000 - val_loss: 0.0021 - val_accuracy: 1.0000\n",
            "Epoch 92/500\n",
            "3/3 [==============================] - 0s 28ms/step - loss: 5.4094e-04 - accuracy: 1.0000 - val_loss: 0.0011 - val_accuracy: 1.0000\n",
            "Epoch 93/500\n",
            "3/3 [==============================] - 0s 18ms/step - loss: 4.7601e-04 - accuracy: 1.0000 - val_loss: 0.0013 - val_accuracy: 1.0000\n",
            "Epoch 94/500\n",
            "3/3 [==============================] - 0s 19ms/step - loss: 4.2174e-04 - accuracy: 1.0000 - val_loss: 6.1350e-04 - val_accuracy: 1.0000\n",
            "Epoch 95/500\n",
            "3/3 [==============================] - 0s 19ms/step - loss: 3.8028e-04 - accuracy: 1.0000 - val_loss: 9.7240e-04 - val_accuracy: 1.0000\n",
            "Epoch 96/500\n",
            "3/3 [==============================] - 0s 22ms/step - loss: 3.2362e-04 - accuracy: 1.0000 - val_loss: 4.8013e-04 - val_accuracy: 1.0000\n",
            "Epoch 97/500\n",
            "3/3 [==============================] - 0s 20ms/step - loss: 2.9218e-04 - accuracy: 1.0000 - val_loss: 5.8224e-04 - val_accuracy: 1.0000\n",
            "Epoch 98/500\n",
            "3/3 [==============================] - 0s 18ms/step - loss: 2.4786e-04 - accuracy: 1.0000 - val_loss: 8.9987e-04 - val_accuracy: 1.0000\n",
            "Epoch 99/500\n",
            "3/3 [==============================] - 0s 19ms/step - loss: 2.1652e-04 - accuracy: 1.0000 - val_loss: 5.2306e-04 - val_accuracy: 1.0000\n",
            "Epoch 100/500\n",
            "3/3 [==============================] - 0s 58ms/step - loss: 1.9240e-04 - accuracy: 1.0000 - val_loss: 8.4757e-04 - val_accuracy: 1.0000\n",
            "Epoch 101/500\n",
            "3/3 [==============================] - 0s 42ms/step - loss: 1.7622e-04 - accuracy: 1.0000 - val_loss: 3.1828e-04 - val_accuracy: 1.0000\n",
            "Epoch 102/500\n",
            "3/3 [==============================] - 0s 59ms/step - loss: 1.5362e-04 - accuracy: 1.0000 - val_loss: 5.2490e-04 - val_accuracy: 1.0000\n",
            "Epoch 103/500\n",
            "3/3 [==============================] - 0s 69ms/step - loss: 1.4445e-04 - accuracy: 1.0000 - val_loss: 5.4466e-04 - val_accuracy: 1.0000\n",
            "Epoch 104/500\n",
            "3/3 [==============================] - 0s 46ms/step - loss: 1.2367e-04 - accuracy: 1.0000 - val_loss: 1.9153e-04 - val_accuracy: 1.0000\n",
            "Epoch 105/500\n",
            "3/3 [==============================] - 0s 51ms/step - loss: 2.2608e-04 - accuracy: 1.0000 - val_loss: 1.7776e-04 - val_accuracy: 1.0000\n",
            "Epoch 106/500\n",
            "3/3 [==============================] - 0s 30ms/step - loss: 1.5138e-04 - accuracy: 1.0000 - val_loss: 2.5418e-04 - val_accuracy: 1.0000\n",
            "Epoch 107/500\n",
            "3/3 [==============================] - 0s 18ms/step - loss: 8.2565e-05 - accuracy: 1.0000 - val_loss: 2.3219e-04 - val_accuracy: 1.0000\n",
            "Epoch 108/500\n",
            "3/3 [==============================] - 0s 18ms/step - loss: 7.1905e-05 - accuracy: 1.0000 - val_loss: 2.3700e-04 - val_accuracy: 1.0000\n",
            "Epoch 109/500\n",
            "3/3 [==============================] - 0s 22ms/step - loss: 6.4306e-05 - accuracy: 1.0000 - val_loss: 2.4651e-04 - val_accuracy: 1.0000\n",
            "Epoch 110/500\n",
            "3/3 [==============================] - 0s 17ms/step - loss: 5.6535e-05 - accuracy: 1.0000 - val_loss: 2.4229e-04 - val_accuracy: 1.0000\n",
            "Epoch 111/500\n",
            "3/3 [==============================] - 0s 18ms/step - loss: 5.1300e-05 - accuracy: 1.0000 - val_loss: 9.8541e-05 - val_accuracy: 1.0000\n",
            "Epoch 112/500\n",
            "3/3 [==============================] - 0s 18ms/step - loss: 4.5478e-05 - accuracy: 1.0000 - val_loss: 9.5475e-05 - val_accuracy: 1.0000\n",
            "Epoch 113/500\n",
            "3/3 [==============================] - 0s 19ms/step - loss: 3.9561e-05 - accuracy: 1.0000 - val_loss: 9.8062e-05 - val_accuracy: 1.0000\n",
            "Epoch 114/500\n",
            "3/3 [==============================] - 0s 18ms/step - loss: 3.4665e-05 - accuracy: 1.0000 - val_loss: 1.0734e-04 - val_accuracy: 1.0000\n",
            "Epoch 115/500\n",
            "3/3 [==============================] - 0s 20ms/step - loss: 2.9839e-05 - accuracy: 1.0000 - val_loss: 1.1678e-04 - val_accuracy: 1.0000\n",
            "Epoch 116/500\n",
            "3/3 [==============================] - 0s 17ms/step - loss: 2.5968e-05 - accuracy: 1.0000 - val_loss: 1.0133e-04 - val_accuracy: 1.0000\n",
            "Epoch 117/500\n",
            "3/3 [==============================] - 0s 19ms/step - loss: 2.3188e-05 - accuracy: 1.0000 - val_loss: 6.8641e-05 - val_accuracy: 1.0000\n",
            "Epoch 118/500\n",
            "3/3 [==============================] - 0s 20ms/step - loss: 2.0828e-05 - accuracy: 1.0000 - val_loss: 8.1238e-05 - val_accuracy: 1.0000\n",
            "Epoch 119/500\n",
            "3/3 [==============================] - 0s 20ms/step - loss: 1.7910e-05 - accuracy: 1.0000 - val_loss: 9.6338e-05 - val_accuracy: 1.0000\n",
            "Epoch 120/500\n",
            "3/3 [==============================] - 0s 18ms/step - loss: 1.6460e-05 - accuracy: 1.0000 - val_loss: 7.1857e-05 - val_accuracy: 1.0000\n",
            "Epoch 121/500\n",
            "3/3 [==============================] - 0s 17ms/step - loss: 1.3847e-05 - accuracy: 1.0000 - val_loss: 7.9126e-05 - val_accuracy: 1.0000\n",
            "Epoch 122/500\n",
            "3/3 [==============================] - 0s 21ms/step - loss: 1.2464e-05 - accuracy: 1.0000 - val_loss: 3.1334e-05 - val_accuracy: 1.0000\n",
            "Epoch 123/500\n",
            "3/3 [==============================] - 0s 19ms/step - loss: 1.1344e-05 - accuracy: 1.0000 - val_loss: 6.3020e-05 - val_accuracy: 1.0000\n",
            "Epoch 124/500\n",
            "3/3 [==============================] - 0s 25ms/step - loss: 9.8037e-06 - accuracy: 1.0000 - val_loss: 4.3201e-05 - val_accuracy: 1.0000\n",
            "Epoch 125/500\n",
            "3/3 [==============================] - 0s 17ms/step - loss: 8.1348e-06 - accuracy: 1.0000 - val_loss: 5.3724e-05 - val_accuracy: 1.0000\n",
            "Epoch 126/500\n",
            "3/3 [==============================] - 0s 17ms/step - loss: 7.6722e-06 - accuracy: 1.0000 - val_loss: 1.5684e-05 - val_accuracy: 1.0000\n",
            "Epoch 127/500\n",
            "3/3 [==============================] - 0s 18ms/step - loss: 7.1430e-06 - accuracy: 1.0000 - val_loss: 2.5901e-05 - val_accuracy: 1.0000\n",
            "Epoch 128/500\n",
            "3/3 [==============================] - 0s 18ms/step - loss: 5.6457e-06 - accuracy: 1.0000 - val_loss: 3.1861e-05 - val_accuracy: 1.0000\n",
            "Epoch 129/500\n",
            "3/3 [==============================] - 0s 17ms/step - loss: 4.9305e-06 - accuracy: 1.0000 - val_loss: 2.2036e-05 - val_accuracy: 1.0000\n",
            "Epoch 130/500\n",
            "3/3 [==============================] - 0s 18ms/step - loss: 4.2534e-06 - accuracy: 1.0000 - val_loss: 3.1571e-05 - val_accuracy: 1.0000\n",
            "Epoch 131/500\n",
            "3/3 [==============================] - 0s 19ms/step - loss: 3.7622e-06 - accuracy: 1.0000 - val_loss: 1.7319e-05 - val_accuracy: 1.0000\n",
            "Epoch 132/500\n",
            "3/3 [==============================] - 0s 20ms/step - loss: 3.3760e-06 - accuracy: 1.0000 - val_loss: 2.2036e-05 - val_accuracy: 1.0000\n",
            "Epoch 133/500\n",
            "3/3 [==============================] - 0s 20ms/step - loss: 2.9802e-06 - accuracy: 1.0000 - val_loss: 1.9362e-05 - val_accuracy: 1.0000\n",
            "Epoch 134/500\n",
            "3/3 [==============================] - 0s 19ms/step - loss: 2.6417e-06 - accuracy: 1.0000 - val_loss: 1.6740e-05 - val_accuracy: 1.0000\n",
            "Epoch 135/500\n",
            "3/3 [==============================] - 0s 18ms/step - loss: 2.2793e-06 - accuracy: 1.0000 - val_loss: 1.2534e-05 - val_accuracy: 1.0000\n",
            "Epoch 136/500\n",
            "3/3 [==============================] - 0s 18ms/step - loss: 1.9789e-06 - accuracy: 1.0000 - val_loss: 1.4526e-05 - val_accuracy: 1.0000\n",
            "Epoch 137/500\n",
            "3/3 [==============================] - 0s 20ms/step - loss: 1.7500e-06 - accuracy: 1.0000 - val_loss: 1.1835e-05 - val_accuracy: 1.0000\n",
            "Epoch 138/500\n",
            "3/3 [==============================] - 0s 19ms/step - loss: 1.5259e-06 - accuracy: 1.0000 - val_loss: 1.0405e-05 - val_accuracy: 1.0000\n",
            "Epoch 139/500\n",
            "3/3 [==============================] - 0s 19ms/step - loss: 1.3399e-06 - accuracy: 1.0000 - val_loss: 7.0333e-06 - val_accuracy: 1.0000\n",
            "Epoch 140/500\n",
            "3/3 [==============================] - 0s 19ms/step - loss: 1.1682e-06 - accuracy: 1.0000 - val_loss: 7.7485e-06 - val_accuracy: 1.0000\n",
            "Epoch 141/500\n",
            "3/3 [==============================] - 0s 22ms/step - loss: 9.8228e-07 - accuracy: 1.0000 - val_loss: 6.5224e-06 - val_accuracy: 1.0000\n",
            "Epoch 142/500\n",
            "3/3 [==============================] - 0s 24ms/step - loss: 8.7261e-07 - accuracy: 1.0000 - val_loss: 6.6756e-06 - val_accuracy: 1.0000\n",
            "Epoch 143/500\n",
            "3/3 [==============================] - 0s 20ms/step - loss: 7.6294e-07 - accuracy: 1.0000 - val_loss: 6.2669e-06 - val_accuracy: 1.0000\n",
            "Epoch 144/500\n",
            "3/3 [==============================] - 0s 18ms/step - loss: 6.6280e-07 - accuracy: 1.0000 - val_loss: 5.3133e-06 - val_accuracy: 1.0000\n",
            "Epoch 145/500\n",
            "3/3 [==============================] - 0s 21ms/step - loss: 5.8651e-07 - accuracy: 1.0000 - val_loss: 5.2622e-06 - val_accuracy: 1.0000\n",
            "Epoch 146/500\n",
            "3/3 [==============================] - 0s 19ms/step - loss: 5.0545e-07 - accuracy: 1.0000 - val_loss: 3.8147e-06 - val_accuracy: 1.0000\n",
            "Epoch 147/500\n",
            "3/3 [==============================] - 0s 19ms/step - loss: 4.4823e-07 - accuracy: 1.0000 - val_loss: 4.1893e-06 - val_accuracy: 1.0000\n",
            "Epoch 148/500\n",
            "3/3 [==============================] - 0s 20ms/step - loss: 4.0531e-07 - accuracy: 1.0000 - val_loss: 3.5081e-06 - val_accuracy: 1.0000\n",
            "Epoch 149/500\n",
            "3/3 [==============================] - 0s 21ms/step - loss: 3.5763e-07 - accuracy: 1.0000 - val_loss: 3.1846e-06 - val_accuracy: 1.0000\n",
            "Epoch 150/500\n",
            "3/3 [==============================] - 0s 23ms/step - loss: 3.1471e-07 - accuracy: 1.0000 - val_loss: 3.4230e-06 - val_accuracy: 1.0000\n",
            "Epoch 151/500\n",
            "3/3 [==============================] - 0s 19ms/step - loss: 2.8133e-07 - accuracy: 1.0000 - val_loss: 2.7759e-06 - val_accuracy: 1.0000\n",
            "Epoch 152/500\n",
            "3/3 [==============================] - 0s 19ms/step - loss: 2.5749e-07 - accuracy: 1.0000 - val_loss: 2.6737e-06 - val_accuracy: 1.0000\n",
            "Epoch 153/500\n",
            "3/3 [==============================] - 0s 19ms/step - loss: 2.0981e-07 - accuracy: 1.0000 - val_loss: 2.3331e-06 - val_accuracy: 1.0000\n",
            "Epoch 154/500\n",
            "3/3 [==============================] - 0s 18ms/step - loss: 2.0504e-07 - accuracy: 1.0000 - val_loss: 2.1287e-06 - val_accuracy: 1.0000\n",
            "Epoch 155/500\n",
            "3/3 [==============================] - 0s 18ms/step - loss: 1.5736e-07 - accuracy: 1.0000 - val_loss: 1.6860e-06 - val_accuracy: 1.0000\n",
            "Epoch 156/500\n",
            "3/3 [==============================] - 0s 22ms/step - loss: 1.5736e-07 - accuracy: 1.0000 - val_loss: 1.5667e-06 - val_accuracy: 1.0000\n",
            "Epoch 157/500\n",
            "3/3 [==============================] - 0s 19ms/step - loss: 1.5259e-07 - accuracy: 1.0000 - val_loss: 1.2772e-06 - val_accuracy: 1.0000\n",
            "Epoch 158/500\n",
            "3/3 [==============================] - 0s 19ms/step - loss: 1.0967e-07 - accuracy: 1.0000 - val_loss: 1.4475e-06 - val_accuracy: 1.0000\n",
            "Epoch 159/500\n",
            "3/3 [==============================] - 0s 19ms/step - loss: 1.0490e-07 - accuracy: 1.0000 - val_loss: 1.3113e-06 - val_accuracy: 1.0000\n",
            "Epoch 160/500\n",
            "3/3 [==============================] - 0s 24ms/step - loss: 1.0490e-07 - accuracy: 1.0000 - val_loss: 1.1240e-06 - val_accuracy: 1.0000\n",
            "Epoch 161/500\n",
            "3/3 [==============================] - 0s 19ms/step - loss: 1.0490e-07 - accuracy: 1.0000 - val_loss: 1.1069e-06 - val_accuracy: 1.0000\n",
            "Epoch 162/500\n",
            "3/3 [==============================] - 0s 24ms/step - loss: 9.0599e-08 - accuracy: 1.0000 - val_loss: 9.7070e-07 - val_accuracy: 1.0000\n",
            "Epoch 163/500\n",
            "3/3 [==============================] - 0s 21ms/step - loss: 6.1989e-08 - accuracy: 1.0000 - val_loss: 9.0258e-07 - val_accuracy: 1.0000\n",
            "Epoch 164/500\n",
            "3/3 [==============================] - 0s 19ms/step - loss: 5.7220e-08 - accuracy: 1.0000 - val_loss: 8.6852e-07 - val_accuracy: 1.0000\n",
            "Epoch 165/500\n",
            "3/3 [==============================] - 0s 27ms/step - loss: 5.7220e-08 - accuracy: 1.0000 - val_loss: 8.0040e-07 - val_accuracy: 1.0000\n",
            "Epoch 166/500\n",
            "3/3 [==============================] - 0s 24ms/step - loss: 5.7220e-08 - accuracy: 1.0000 - val_loss: 7.1525e-07 - val_accuracy: 1.0000\n",
            "Epoch 167/500\n",
            "3/3 [==============================] - 0s 21ms/step - loss: 5.7220e-08 - accuracy: 1.0000 - val_loss: 6.8119e-07 - val_accuracy: 1.0000\n",
            "Epoch 168/500\n",
            "3/3 [==============================] - 0s 22ms/step - loss: 5.7220e-08 - accuracy: 1.0000 - val_loss: 6.1308e-07 - val_accuracy: 1.0000\n",
            "Epoch 169/500\n",
            "3/3 [==============================] - 0s 19ms/step - loss: 5.7220e-08 - accuracy: 1.0000 - val_loss: 6.1308e-07 - val_accuracy: 1.0000\n",
            "Epoch 170/500\n",
            "3/3 [==============================] - 0s 19ms/step - loss: 5.2452e-08 - accuracy: 1.0000 - val_loss: 5.2793e-07 - val_accuracy: 1.0000\n",
            "Epoch 171/500\n",
            "3/3 [==============================] - 0s 23ms/step - loss: 5.2452e-08 - accuracy: 1.0000 - val_loss: 4.9387e-07 - val_accuracy: 1.0000\n",
            "Epoch 172/500\n",
            "3/3 [==============================] - 0s 19ms/step - loss: 5.7220e-08 - accuracy: 1.0000 - val_loss: 5.2793e-07 - val_accuracy: 1.0000\n",
            "Epoch 173/500\n",
            "3/3 [==============================] - 0s 21ms/step - loss: 4.7684e-08 - accuracy: 1.0000 - val_loss: 4.4278e-07 - val_accuracy: 1.0000\n",
            "Epoch 174/500\n",
            "3/3 [==============================] - 0s 22ms/step - loss: 9.5367e-09 - accuracy: 1.0000 - val_loss: 3.7466e-07 - val_accuracy: 1.0000\n",
            "Epoch 175/500\n",
            "3/3 [==============================] - 0s 21ms/step - loss: 4.7684e-09 - accuracy: 1.0000 - val_loss: 3.5763e-07 - val_accuracy: 1.0000\n",
            "Epoch 176/500\n",
            "3/3 [==============================] - 0s 21ms/step - loss: 0.0000e+00 - accuracy: 1.0000 - val_loss: 3.5763e-07 - val_accuracy: 1.0000\n",
            "Epoch 177/500\n",
            "3/3 [==============================] - 0s 23ms/step - loss: 0.0000e+00 - accuracy: 1.0000 - val_loss: 3.5763e-07 - val_accuracy: 1.0000\n",
            "Epoch 178/500\n",
            "3/3 [==============================] - 0s 22ms/step - loss: 0.0000e+00 - accuracy: 1.0000 - val_loss: 3.5763e-07 - val_accuracy: 1.0000\n",
            "Epoch 179/500\n",
            "3/3 [==============================] - 0s 24ms/step - loss: 0.0000e+00 - accuracy: 1.0000 - val_loss: 3.4060e-07 - val_accuracy: 1.0000\n",
            "Epoch 180/500\n",
            "3/3 [==============================] - 0s 22ms/step - loss: 0.0000e+00 - accuracy: 1.0000 - val_loss: 3.2357e-07 - val_accuracy: 1.0000\n",
            "Epoch 181/500\n",
            "3/3 [==============================] - 0s 22ms/step - loss: 0.0000e+00 - accuracy: 1.0000 - val_loss: 3.2357e-07 - val_accuracy: 1.0000\n",
            "Epoch 182/500\n",
            "3/3 [==============================] - 0s 22ms/step - loss: 0.0000e+00 - accuracy: 1.0000 - val_loss: 3.2357e-07 - val_accuracy: 1.0000\n",
            "Epoch 183/500\n",
            "3/3 [==============================] - 0s 21ms/step - loss: 0.0000e+00 - accuracy: 1.0000 - val_loss: 3.0654e-07 - val_accuracy: 1.0000\n",
            "Epoch 184/500\n",
            "3/3 [==============================] - 0s 21ms/step - loss: 0.0000e+00 - accuracy: 1.0000 - val_loss: 3.0654e-07 - val_accuracy: 1.0000\n",
            "Epoch 185/500\n",
            "3/3 [==============================] - 0s 21ms/step - loss: 0.0000e+00 - accuracy: 1.0000 - val_loss: 3.0654e-07 - val_accuracy: 1.0000\n",
            "Epoch 186/500\n",
            "3/3 [==============================] - 0s 21ms/step - loss: 0.0000e+00 - accuracy: 1.0000 - val_loss: 2.8951e-07 - val_accuracy: 1.0000\n",
            "Epoch 187/500\n",
            "3/3 [==============================] - 0s 25ms/step - loss: 0.0000e+00 - accuracy: 1.0000 - val_loss: 2.8951e-07 - val_accuracy: 1.0000\n",
            "Epoch 188/500\n",
            "3/3 [==============================] - 0s 20ms/step - loss: 0.0000e+00 - accuracy: 1.0000 - val_loss: 2.8951e-07 - val_accuracy: 1.0000\n",
            "Epoch 189/500\n",
            "3/3 [==============================] - 0s 21ms/step - loss: 0.0000e+00 - accuracy: 1.0000 - val_loss: 2.8951e-07 - val_accuracy: 1.0000\n",
            "Epoch 190/500\n",
            "3/3 [==============================] - 0s 24ms/step - loss: 0.0000e+00 - accuracy: 1.0000 - val_loss: 2.7248e-07 - val_accuracy: 1.0000\n",
            "Epoch 191/500\n",
            "3/3 [==============================] - 0s 23ms/step - loss: 0.0000e+00 - accuracy: 1.0000 - val_loss: 2.5545e-07 - val_accuracy: 1.0000\n",
            "Epoch 192/500\n",
            "3/3 [==============================] - 0s 28ms/step - loss: 0.0000e+00 - accuracy: 1.0000 - val_loss: 2.5545e-07 - val_accuracy: 1.0000\n",
            "Epoch 193/500\n",
            "3/3 [==============================] - 0s 22ms/step - loss: 0.0000e+00 - accuracy: 1.0000 - val_loss: 2.3842e-07 - val_accuracy: 1.0000\n",
            "Epoch 194/500\n",
            "3/3 [==============================] - 0s 21ms/step - loss: 0.0000e+00 - accuracy: 1.0000 - val_loss: 2.3842e-07 - val_accuracy: 1.0000\n",
            "Epoch 195/500\n",
            "3/3 [==============================] - 0s 21ms/step - loss: 0.0000e+00 - accuracy: 1.0000 - val_loss: 2.3842e-07 - val_accuracy: 1.0000\n",
            "Epoch 196/500\n",
            "3/3 [==============================] - 0s 21ms/step - loss: 0.0000e+00 - accuracy: 1.0000 - val_loss: 2.3842e-07 - val_accuracy: 1.0000\n",
            "Epoch 197/500\n",
            "3/3 [==============================] - 0s 23ms/step - loss: 0.0000e+00 - accuracy: 1.0000 - val_loss: 2.2139e-07 - val_accuracy: 1.0000\n",
            "Epoch 198/500\n",
            "3/3 [==============================] - 0s 21ms/step - loss: 0.0000e+00 - accuracy: 1.0000 - val_loss: 2.2139e-07 - val_accuracy: 1.0000\n",
            "Epoch 199/500\n",
            "3/3 [==============================] - 0s 21ms/step - loss: 0.0000e+00 - accuracy: 1.0000 - val_loss: 2.2139e-07 - val_accuracy: 1.0000\n",
            "Epoch 200/500\n",
            "3/3 [==============================] - 0s 20ms/step - loss: 0.0000e+00 - accuracy: 1.0000 - val_loss: 2.2139e-07 - val_accuracy: 1.0000\n",
            "Epoch 201/500\n",
            "3/3 [==============================] - 0s 20ms/step - loss: 0.0000e+00 - accuracy: 1.0000 - val_loss: 2.0436e-07 - val_accuracy: 1.0000\n",
            "Epoch 202/500\n",
            "3/3 [==============================] - 0s 21ms/step - loss: 0.0000e+00 - accuracy: 1.0000 - val_loss: 2.0436e-07 - val_accuracy: 1.0000\n",
            "Epoch 203/500\n",
            "3/3 [==============================] - 0s 22ms/step - loss: 0.0000e+00 - accuracy: 1.0000 - val_loss: 2.0436e-07 - val_accuracy: 1.0000\n",
            "Epoch 204/500\n",
            "3/3 [==============================] - 0s 21ms/step - loss: 0.0000e+00 - accuracy: 1.0000 - val_loss: 2.0436e-07 - val_accuracy: 1.0000\n",
            "Epoch 205/500\n",
            "3/3 [==============================] - 0s 22ms/step - loss: 0.0000e+00 - accuracy: 1.0000 - val_loss: 2.0436e-07 - val_accuracy: 1.0000\n",
            "Epoch 206/500\n",
            "3/3 [==============================] - 0s 20ms/step - loss: 0.0000e+00 - accuracy: 1.0000 - val_loss: 1.8733e-07 - val_accuracy: 1.0000\n",
            "Epoch 207/500\n",
            "3/3 [==============================] - 0s 20ms/step - loss: 0.0000e+00 - accuracy: 1.0000 - val_loss: 1.8733e-07 - val_accuracy: 1.0000\n",
            "Epoch 208/500\n",
            "3/3 [==============================] - 0s 22ms/step - loss: 0.0000e+00 - accuracy: 1.0000 - val_loss: 1.8733e-07 - val_accuracy: 1.0000\n",
            "Epoch 209/500\n",
            "3/3 [==============================] - 0s 27ms/step - loss: 0.0000e+00 - accuracy: 1.0000 - val_loss: 1.8733e-07 - val_accuracy: 1.0000\n",
            "Epoch 210/500\n",
            "3/3 [==============================] - 0s 20ms/step - loss: 0.0000e+00 - accuracy: 1.0000 - val_loss: 1.8733e-07 - val_accuracy: 1.0000\n",
            "Epoch 211/500\n",
            "3/3 [==============================] - 0s 20ms/step - loss: 0.0000e+00 - accuracy: 1.0000 - val_loss: 1.8733e-07 - val_accuracy: 1.0000\n",
            "Epoch 212/500\n",
            "3/3 [==============================] - 0s 22ms/step - loss: 0.0000e+00 - accuracy: 1.0000 - val_loss: 1.7030e-07 - val_accuracy: 1.0000\n",
            "Epoch 213/500\n",
            "3/3 [==============================] - 0s 21ms/step - loss: 0.0000e+00 - accuracy: 1.0000 - val_loss: 1.7030e-07 - val_accuracy: 1.0000\n",
            "Epoch 214/500\n",
            "3/3 [==============================] - 0s 20ms/step - loss: 0.0000e+00 - accuracy: 1.0000 - val_loss: 1.7030e-07 - val_accuracy: 1.0000\n",
            "Epoch 215/500\n",
            "3/3 [==============================] - 0s 24ms/step - loss: 0.0000e+00 - accuracy: 1.0000 - val_loss: 1.7030e-07 - val_accuracy: 1.0000\n",
            "Epoch 216/500\n",
            "3/3 [==============================] - 0s 21ms/step - loss: 0.0000e+00 - accuracy: 1.0000 - val_loss: 1.7030e-07 - val_accuracy: 1.0000\n",
            "Epoch 217/500\n",
            "3/3 [==============================] - 0s 20ms/step - loss: 0.0000e+00 - accuracy: 1.0000 - val_loss: 1.7030e-07 - val_accuracy: 1.0000\n",
            "Epoch 218/500\n",
            "3/3 [==============================] - 0s 20ms/step - loss: 0.0000e+00 - accuracy: 1.0000 - val_loss: 1.5327e-07 - val_accuracy: 1.0000\n",
            "Epoch 219/500\n",
            "3/3 [==============================] - 0s 23ms/step - loss: 0.0000e+00 - accuracy: 1.0000 - val_loss: 1.5327e-07 - val_accuracy: 1.0000\n",
            "Epoch 220/500\n",
            "3/3 [==============================] - 0s 20ms/step - loss: 0.0000e+00 - accuracy: 1.0000 - val_loss: 1.5327e-07 - val_accuracy: 1.0000\n",
            "Epoch 221/500\n",
            "3/3 [==============================] - 0s 23ms/step - loss: 0.0000e+00 - accuracy: 1.0000 - val_loss: 1.5327e-07 - val_accuracy: 1.0000\n",
            "Epoch 222/500\n",
            "3/3 [==============================] - 0s 23ms/step - loss: 0.0000e+00 - accuracy: 1.0000 - val_loss: 1.5327e-07 - val_accuracy: 1.0000\n",
            "Epoch 223/500\n",
            "3/3 [==============================] - 0s 22ms/step - loss: 0.0000e+00 - accuracy: 1.0000 - val_loss: 1.5327e-07 - val_accuracy: 1.0000\n",
            "Epoch 224/500\n",
            "3/3 [==============================] - 0s 20ms/step - loss: 0.0000e+00 - accuracy: 1.0000 - val_loss: 1.5327e-07 - val_accuracy: 1.0000\n",
            "Epoch 225/500\n",
            "3/3 [==============================] - 0s 27ms/step - loss: 0.0000e+00 - accuracy: 1.0000 - val_loss: 1.5327e-07 - val_accuracy: 1.0000\n",
            "Epoch 226/500\n",
            "3/3 [==============================] - 0s 21ms/step - loss: 0.0000e+00 - accuracy: 1.0000 - val_loss: 1.5327e-07 - val_accuracy: 1.0000\n",
            "Epoch 227/500\n",
            "3/3 [==============================] - 0s 23ms/step - loss: 0.0000e+00 - accuracy: 1.0000 - val_loss: 1.5327e-07 - val_accuracy: 1.0000\n",
            "Epoch 228/500\n",
            "3/3 [==============================] - 0s 21ms/step - loss: 0.0000e+00 - accuracy: 1.0000 - val_loss: 1.5327e-07 - val_accuracy: 1.0000\n",
            "Epoch 229/500\n",
            "3/3 [==============================] - 0s 21ms/step - loss: 0.0000e+00 - accuracy: 1.0000 - val_loss: 1.5327e-07 - val_accuracy: 1.0000\n",
            "Epoch 230/500\n",
            "3/3 [==============================] - 0s 24ms/step - loss: 0.0000e+00 - accuracy: 1.0000 - val_loss: 1.5327e-07 - val_accuracy: 1.0000\n",
            "Epoch 231/500\n",
            "3/3 [==============================] - 0s 23ms/step - loss: 0.0000e+00 - accuracy: 1.0000 - val_loss: 1.5327e-07 - val_accuracy: 1.0000\n",
            "Epoch 232/500\n",
            "3/3 [==============================] - 0s 24ms/step - loss: 0.0000e+00 - accuracy: 1.0000 - val_loss: 1.5327e-07 - val_accuracy: 1.0000\n",
            "Epoch 233/500\n",
            "3/3 [==============================] - 0s 21ms/step - loss: 0.0000e+00 - accuracy: 1.0000 - val_loss: 1.3624e-07 - val_accuracy: 1.0000\n",
            "Epoch 234/500\n",
            "3/3 [==============================] - 0s 21ms/step - loss: 0.0000e+00 - accuracy: 1.0000 - val_loss: 1.3624e-07 - val_accuracy: 1.0000\n",
            "Epoch 235/500\n",
            "3/3 [==============================] - 0s 20ms/step - loss: 0.0000e+00 - accuracy: 1.0000 - val_loss: 1.3624e-07 - val_accuracy: 1.0000\n",
            "Epoch 236/500\n",
            "3/3 [==============================] - 0s 21ms/step - loss: 0.0000e+00 - accuracy: 1.0000 - val_loss: 1.3624e-07 - val_accuracy: 1.0000\n",
            "Epoch 237/500\n",
            "3/3 [==============================] - 0s 21ms/step - loss: 0.0000e+00 - accuracy: 1.0000 - val_loss: 1.3624e-07 - val_accuracy: 1.0000\n",
            "Epoch 238/500\n",
            "3/3 [==============================] - 0s 24ms/step - loss: 0.0000e+00 - accuracy: 1.0000 - val_loss: 1.3624e-07 - val_accuracy: 1.0000\n",
            "Epoch 239/500\n",
            "3/3 [==============================] - 0s 21ms/step - loss: 0.0000e+00 - accuracy: 1.0000 - val_loss: 1.3624e-07 - val_accuracy: 1.0000\n",
            "Epoch 240/500\n",
            "3/3 [==============================] - 0s 22ms/step - loss: 0.0000e+00 - accuracy: 1.0000 - val_loss: 1.3624e-07 - val_accuracy: 1.0000\n",
            "Epoch 241/500\n",
            "3/3 [==============================] - 0s 25ms/step - loss: 0.0000e+00 - accuracy: 1.0000 - val_loss: 1.3624e-07 - val_accuracy: 1.0000\n",
            "Epoch 242/500\n",
            "3/3 [==============================] - 0s 21ms/step - loss: 0.0000e+00 - accuracy: 1.0000 - val_loss: 1.3624e-07 - val_accuracy: 1.0000\n",
            "Epoch 243/500\n",
            "3/3 [==============================] - 0s 20ms/step - loss: 0.0000e+00 - accuracy: 1.0000 - val_loss: 1.3624e-07 - val_accuracy: 1.0000\n",
            "Epoch 244/500\n",
            "3/3 [==============================] - 0s 21ms/step - loss: 0.0000e+00 - accuracy: 1.0000 - val_loss: 1.3624e-07 - val_accuracy: 1.0000\n",
            "Epoch 245/500\n",
            "3/3 [==============================] - 0s 23ms/step - loss: 0.0000e+00 - accuracy: 1.0000 - val_loss: 1.3624e-07 - val_accuracy: 1.0000\n",
            "Epoch 246/500\n",
            "3/3 [==============================] - 0s 21ms/step - loss: 0.0000e+00 - accuracy: 1.0000 - val_loss: 1.1921e-07 - val_accuracy: 1.0000\n",
            "Epoch 247/500\n",
            "3/3 [==============================] - 0s 22ms/step - loss: 0.0000e+00 - accuracy: 1.0000 - val_loss: 1.1921e-07 - val_accuracy: 1.0000\n",
            "Epoch 248/500\n",
            "3/3 [==============================] - 0s 22ms/step - loss: 0.0000e+00 - accuracy: 1.0000 - val_loss: 1.1921e-07 - val_accuracy: 1.0000\n",
            "Epoch 249/500\n",
            "3/3 [==============================] - 0s 21ms/step - loss: 0.0000e+00 - accuracy: 1.0000 - val_loss: 1.1921e-07 - val_accuracy: 1.0000\n",
            "Epoch 250/500\n",
            "3/3 [==============================] - 0s 22ms/step - loss: 0.0000e+00 - accuracy: 1.0000 - val_loss: 1.1921e-07 - val_accuracy: 1.0000\n",
            "Epoch 251/500\n",
            "3/3 [==============================] - 0s 23ms/step - loss: 0.0000e+00 - accuracy: 1.0000 - val_loss: 1.1921e-07 - val_accuracy: 1.0000\n",
            "Epoch 252/500\n",
            "3/3 [==============================] - 0s 25ms/step - loss: 0.0000e+00 - accuracy: 1.0000 - val_loss: 1.1921e-07 - val_accuracy: 1.0000\n",
            "Epoch 253/500\n",
            "3/3 [==============================] - 0s 23ms/step - loss: 0.0000e+00 - accuracy: 1.0000 - val_loss: 1.1921e-07 - val_accuracy: 1.0000\n",
            "Epoch 254/500\n",
            "3/3 [==============================] - 0s 31ms/step - loss: 0.0000e+00 - accuracy: 1.0000 - val_loss: 1.1921e-07 - val_accuracy: 1.0000\n",
            "Epoch 255/500\n",
            "3/3 [==============================] - 0s 22ms/step - loss: 0.0000e+00 - accuracy: 1.0000 - val_loss: 1.1921e-07 - val_accuracy: 1.0000\n",
            "Epoch 256/500\n",
            "3/3 [==============================] - 0s 26ms/step - loss: 0.0000e+00 - accuracy: 1.0000 - val_loss: 1.1921e-07 - val_accuracy: 1.0000\n",
            "Epoch 257/500\n",
            "3/3 [==============================] - 0s 24ms/step - loss: 0.0000e+00 - accuracy: 1.0000 - val_loss: 1.1921e-07 - val_accuracy: 1.0000\n",
            "Epoch 258/500\n",
            "3/3 [==============================] - 0s 23ms/step - loss: 0.0000e+00 - accuracy: 1.0000 - val_loss: 1.1921e-07 - val_accuracy: 1.0000\n",
            "Epoch 259/500\n",
            "3/3 [==============================] - 0s 22ms/step - loss: 0.0000e+00 - accuracy: 1.0000 - val_loss: 1.1921e-07 - val_accuracy: 1.0000\n",
            "Epoch 260/500\n",
            "3/3 [==============================] - 0s 21ms/step - loss: 0.0000e+00 - accuracy: 1.0000 - val_loss: 1.1921e-07 - val_accuracy: 1.0000\n",
            "Epoch 261/500\n",
            "3/3 [==============================] - 0s 21ms/step - loss: 0.0000e+00 - accuracy: 1.0000 - val_loss: 1.1921e-07 - val_accuracy: 1.0000\n",
            "Epoch 262/500\n",
            "3/3 [==============================] - 0s 23ms/step - loss: 0.0000e+00 - accuracy: 1.0000 - val_loss: 1.1921e-07 - val_accuracy: 1.0000\n",
            "Epoch 263/500\n",
            "3/3 [==============================] - 0s 24ms/step - loss: 0.0000e+00 - accuracy: 1.0000 - val_loss: 1.1921e-07 - val_accuracy: 1.0000\n",
            "Epoch 264/500\n",
            "3/3 [==============================] - 0s 21ms/step - loss: 0.0000e+00 - accuracy: 1.0000 - val_loss: 1.1921e-07 - val_accuracy: 1.0000\n",
            "Epoch 265/500\n",
            "3/3 [==============================] - 0s 22ms/step - loss: 0.0000e+00 - accuracy: 1.0000 - val_loss: 1.1921e-07 - val_accuracy: 1.0000\n",
            "Epoch 266/500\n",
            "3/3 [==============================] - 0s 23ms/step - loss: 0.0000e+00 - accuracy: 1.0000 - val_loss: 1.1921e-07 - val_accuracy: 1.0000\n"
          ]
        }
      ]
    },
    {
      "cell_type": "code",
      "source": [
        "# Đánh giá độ chính xác của mô hình \n",
        "Score=model.evaluate(x_train,y_train,verbose=0)\n",
        "print('Train Loss', Score[0])\n",
        "print('Train Accuracy', Score[1])"
      ],
      "metadata": {
        "colab": {
          "base_uri": "https://localhost:8080/"
        },
        "id": "UttRkSJ05DZs",
        "outputId": "534c1c96-ba1c-474a-e5eb-e5215d37c90d"
      },
      "execution_count": null,
      "outputs": [
        {
          "output_type": "stream",
          "name": "stdout",
          "text": [
            "Train Loss 2.607702498380604e-08\n",
            "Train Accuracy 1.0\n"
          ]
        }
      ]
    },
    {
      "cell_type": "code",
      "source": [
        "# Vẽ đồ thị giữa số lần học (Epochs) và độ chính xác (Accuracy)\n",
        "plt.plot(history.history['accuracy'])\n",
        "plt.plot(history.history['val_accuracy'])\n",
        "plt.title('Model Accuracy')\n",
        "plt.ylabel('Accuracy')\n",
        "plt.xlabel('Epochs')\n",
        "plt.legend(['Train','Validation'])\n",
        "plt.show"
      ],
      "metadata": {
        "id": "JZCzZhAm5Gn-",
        "colab": {
          "base_uri": "https://localhost:8080/",
          "height": 312
        },
        "outputId": "caf12ada-b529-492b-b313-04e90fdabe23"
      },
      "execution_count": null,
      "outputs": [
        {
          "output_type": "execute_result",
          "data": {
            "text/plain": [
              "<function matplotlib.pyplot.show>"
            ]
          },
          "metadata": {},
          "execution_count": 33
        },
        {
          "output_type": "display_data",
          "data": {
            "text/plain": [
              "<Figure size 432x288 with 1 Axes>"
            ],
            "image/png": "[encoded data removed]"
          },
          "metadata": {
            "needs_background": "light"
          }
        }
      ]
    },
    {
      "cell_type": "code",
      "source": [
        "# Lưu lại\n",
        "model.save(\"Nhan_dien_khuon_mat.h5\")"
      ],
      "metadata": {
        "id": "CrwxsEjQida8"
      },
      "execution_count": null,
      "outputs": []
    },
    {
      "cell_type": "code",
      "source": [
        "# Tải mô hình \n",
        "model_ANN=load_model('Nhan_dien_khuon_mat.h5')"
      ],
      "metadata": {
        "id": "bEF6FnoLjLO1"
      },
      "execution_count": null,
      "outputs": []
    },
    {
      "cell_type": "code",
      "source": [
        "# Kiểm tra các hình có trong bộ dữ liệu test_set\n",
        "img=load_img('/content/drive/MyDrive/Colab Notebooks/BTVN/Nhan_dien_khuon_mat/Test_set/TrienT1.jpg',target_size=(150,150))\n",
        "plt.imshow(img)\n",
        "img=img_to_array(img)\n",
        "img=img.reshape(1,67500)\n",
        "img=img.astype('float32')\n",
        "img=img/255\n",
        "result=np.argmax(model_ANN.predict(img),axis=1)\n",
        "if result==0:\n",
        "  prediction=\"CO TRIEN\"\n",
        "if result==1:\n",
        "  prediction=\"KHONG CO TRIEN\"\n",
        "print(prediction)\n"
      ],
      "metadata": {
        "colab": {
          "base_uri": "https://localhost:8080/",
          "height": 286
        },
        "id": "M5Qb4LJEGmh_",
        "outputId": "553b2002-0549-4fa8-dbef-9b014d972125"
      },
      "execution_count": null,
      "outputs": [
        {
          "output_type": "stream",
          "name": "stdout",
          "text": [
            "CO TRIEN\n"
          ]
        },
        {
          "output_type": "display_data",
          "data": {
            "text/plain": [
              "<Figure size 432x288 with 1 Axes>"
            ],
            "image/png": "[encoded data removed]"
          },
          "metadata": {
            "needs_background": "light"
          }
        }
      ]
    },
    {
      "cell_type": "code",
      "source": [
        "# Kiểm tra các hình có trong bộ dữ liệu test_set\n",
        "img=load_img('/content/drive/MyDrive/Colab Notebooks/BTVN/Nhan_dien_khuon_mat/Test_set/KT1.jpg',target_size=(150,150))\n",
        "plt.imshow(img)\n",
        "img=img_to_array(img)\n",
        "img=img.reshape(1,67500)\n",
        "img=img.astype('float32')\n",
        "img=img/255\n",
        "result=np.argmax(model_ANN.predict(img),axis=1)\n",
        "if result==0:\n",
        "  prediction=\"CO TRIEN\"\n",
        "if result==1:\n",
        "  prediction=\"KHONG CO TRIEN\"\n",
        "print(prediction)\n"
      ],
      "metadata": {
        "colab": {
          "base_uri": "https://localhost:8080/",
          "height": 286
        },
        "id": "s4XJ5w65iIEQ",
        "outputId": "be20767a-1c8d-4d4d-c9de-43a332f6515c"
      },
      "execution_count": null,
      "outputs": [
        {
          "output_type": "stream",
          "name": "stdout",
          "text": [
            "KHONG CO TRIEN\n"
          ]
        },
        {
          "output_type": "display_data",
          "data": {
            "text/plain": [
              "<Figure size 432x288 with 1 Axes>"
            ],
            "image/png": "[encoded data removed]"
          },
          "metadata": {
            "needs_background": "light"
          }
        }
      ]
    },
    {
      "cell_type": "code",
      "source": [
        "# Chuyển sang pdf\n",
        "from google.colab import drive\n",
        "drive.mount('/content/drive')\n",
        "!sudo apt-get install texlive-xetex texlive-fonts-recommended texlive-generic-recommended\n",
        "!wget -nc https://raw.githubusercontent.com/brpy/colab-pdf/master/colab_pdf.py\n",
        "from colab_pdf import colab_pdf\n",
        "colab_pdf('ND_KMAT.ipynb')"
      ],
      "metadata": {
        "id": "na8APfcrghcj"
      },
      "execution_count": null,
      "outputs": []
    }
  ]
}