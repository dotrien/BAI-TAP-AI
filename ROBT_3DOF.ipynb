{
  "nbformat": 4,
  "nbformat_minor": 0,
  "metadata": {
    "colab": {
      "name": "ROBT 3DOF.ipynb",
      "provenance": [],
      "collapsed_sections": []
    },
    "kernelspec": {
      "name": "python3",
      "display_name": "Python 3"
    },
    "language_info": {
      "name": "python"
    },
    "accelerator": "GPU"
  },
  "cells": [
    {
      "cell_type": "code",
      "execution_count": null,
      "metadata": {
        "id": "7agE1aVFSE9x"
      },
      "outputs": [],
      "source": [
        "# Khai báo và sử dụng các thư viện sau\n",
        "from keras.datasets import cifar10\n",
        "from sklearn.model_selection import train_test_split\n",
        "import matplotlib.pyplot as plt\n",
        "import numpy as np\n",
        "import pandas as pd\n",
        "import tensorflow as tf\n",
        "from keras.utils import np_utils\n",
        "from keras.models import Sequential\n",
        "from keras.layers import Dense, Activation, Dropout, Conv2D, MaxPooling2D, Flatten\n",
        "from tensorflow.keras.optimizers import SGD, RMSprop\n",
        "from keras.callbacks import EarlyStopping\n",
        "from sklearn.utils import validation \n",
        "from sklearn import preprocessing\n",
        "from tensorflow.keras.utils import to_categorical\n",
        "from tensorflow.keras.models import load_model\n",
        "from tensorflow.keras.utils import load_img, img_to_array"
      ]
    },
    {
      "cell_type": "code",
      "source": [
        "# Chuyển đến file Google Drive chứa file dữ liệu csv\n",
        "%cd\"/content/drive/MyDrive/Colab Notebooks/BTVN/3DOF/\""
      ],
      "metadata": {
        "colab": {
          "base_uri": "https://localhost:8080/"
        },
        "id": "Nwb2gs-ISVnT",
        "outputId": "b0c99138-c23b-4e55-af6e-7b6aaf9c6eac"
      },
      "execution_count": null,
      "outputs": [
        {
          "output_type": "stream",
          "name": "stdout",
          "text": [
            "/content/drive/MyDrive/Colab Notebooks/BTVN/3DOF\n"
          ]
        }
      ]
    },
    {
      "cell_type": "code",
      "source": [
        "# Đọc file dữ liệu đã tạo sẵn\n",
        "data=pd.read_csv(\"/content/drive/MyDrive/Colab Notebooks/BTVN/3DOF/3DOF.csv\")\n",
        "data.head()"
      ],
      "metadata": {
        "colab": {
          "base_uri": "https://localhost:8080/",
          "height": 206
        },
        "id": "TJw3WJ6NSn3U",
        "outputId": "e088c4e6-7681-4558-ddd5-50b5e39cb875"
      },
      "execution_count": null,
      "outputs": [
        {
          "output_type": "execute_result",
          "data": {
            "text/plain": [
              "   theta1  theta2  theta3          px        py   sy\n",
              "0     0.0     0.0     0.0  110.000000  0.000000  0.0\n",
              "1     0.0     0.0     0.0  110.000000  0.000000  0.0\n",
              "2     0.0     0.0     4.0  109.951281  1.395129  4.0\n",
              "3     0.0     0.0     0.0  110.000000  0.000000  0.0\n",
              "4     0.0     0.0     4.0  109.951281  1.395129  4.0"
            ],
            "text/html": [
              "\n",
              "  <div id=\"df-9aee4079-b32a-4f22-b524-f28b1882f7ec\">\n",
              "    <div class=\"colab-df-container\">\n",
              "      <div>\n",
              "<style scoped>\n",
              "    .dataframe tbody tr th:only-of-type {\n",
              "        vertical-align: middle;\n",
              "    }\n",
              "\n",
              "    .dataframe tbody tr th {\n",
              "        vertical-align: top;\n",
              "    }\n",
              "\n",
              "    .dataframe thead th {\n",
              "        text-align: right;\n",
              "    }\n",
              "</style>\n",
              "<table border=\"1\" class=\"dataframe\">\n",
              "  <thead>\n",
              "    <tr style=\"text-align: right;\">\n",
              "      <th></th>\n",
              "      <th>theta1</th>\n",
              "      <th>theta2</th>\n",
              "      <th>theta3</th>\n",
              "      <th>px</th>\n",
              "      <th>py</th>\n",
              "      <th>sy</th>\n",
              "    </tr>\n",
              "  </thead>\n",
              "  <tbody>\n",
              "    <tr>\n",
              "      <th>0</th>\n",
              "      <td>0.0</td>\n",
              "      <td>0.0</td>\n",
              "      <td>0.0</td>\n",
              "      <td>110.000000</td>\n",
              "      <td>0.000000</td>\n",
              "      <td>0.0</td>\n",
              "    </tr>\n",
              "    <tr>\n",
              "      <th>1</th>\n",
              "      <td>0.0</td>\n",
              "      <td>0.0</td>\n",
              "      <td>0.0</td>\n",
              "      <td>110.000000</td>\n",
              "      <td>0.000000</td>\n",
              "      <td>0.0</td>\n",
              "    </tr>\n",
              "    <tr>\n",
              "      <th>2</th>\n",
              "      <td>0.0</td>\n",
              "      <td>0.0</td>\n",
              "      <td>4.0</td>\n",
              "      <td>109.951281</td>\n",
              "      <td>1.395129</td>\n",
              "      <td>4.0</td>\n",
              "    </tr>\n",
              "    <tr>\n",
              "      <th>3</th>\n",
              "      <td>0.0</td>\n",
              "      <td>0.0</td>\n",
              "      <td>0.0</td>\n",
              "      <td>110.000000</td>\n",
              "      <td>0.000000</td>\n",
              "      <td>0.0</td>\n",
              "    </tr>\n",
              "    <tr>\n",
              "      <th>4</th>\n",
              "      <td>0.0</td>\n",
              "      <td>0.0</td>\n",
              "      <td>4.0</td>\n",
              "      <td>109.951281</td>\n",
              "      <td>1.395129</td>\n",
              "      <td>4.0</td>\n",
              "    </tr>\n",
              "  </tbody>\n",
              "</table>\n",
              "</div>\n",
              "      <button class=\"colab-df-convert\" onclick=\"convertToInteractive('df-9aee4079-b32a-4f22-b524-f28b1882f7ec')\"\n",
              "              title=\"Convert this dataframe to an interactive table.\"\n",
              "              style=\"display:none;\">\n",
              "        \n",
              "  <svg xmlns=\"http://www.w3.org/2000/svg\" height=\"24px\"viewBox=\"0 0 24 24\"\n",
              "       width=\"24px\">\n",
              "    <path d=\"M0 0h24v24H0V0z\" fill=\"none\"/>\n",
              "    <path d=\"M18.56 5.44l.94 2.06.94-2.06 2.06-.94-2.06-.94-.94-2.06-.94 2.06-2.06.94zm-11 1L8.5 8.5l.94-2.06 2.06-.94-2.06-.94L8.5 2.5l-.94 2.06-2.06.94zm10 10l.94 2.06.94-2.06 2.06-.94-2.06-.94-.94-2.06-.94 2.06-2.06.94z\"/><path d=\"M17.41 7.96l-1.37-1.37c-.4-.4-.92-.59-1.43-.59-.52 0-1.04.2-1.43.59L10.3 9.45l-7.72 7.72c-.78.78-.78 2.05 0 2.83L4 21.41c.39.39.9.59 1.41.59.51 0 1.02-.2 1.41-.59l7.78-7.78 2.81-2.81c.8-.78.8-2.07 0-2.86zM5.41 20L4 18.59l7.72-7.72 1.47 1.35L5.41 20z\"/>\n",
              "  </svg>\n",
              "      </button>\n",
              "      \n",
              "  <style>\n",
              "    .colab-df-container {\n",
              "      display:flex;\n",
              "      flex-wrap:wrap;\n",
              "      gap: 12px;\n",
              "    }\n",
              "\n",
              "    .colab-df-convert {\n",
              "      background-color: #E8F0FE;\n",
              "      border: none;\n",
              "      border-radius: 50%;\n",
              "      cursor: pointer;\n",
              "      display: none;\n",
              "      fill: #1967D2;\n",
              "      height: 32px;\n",
              "      padding: 0 0 0 0;\n",
              "      width: 32px;\n",
              "    }\n",
              "\n",
              "    .colab-df-convert:hover {\n",
              "      background-color: #E2EBFA;\n",
              "      box-shadow: 0px 1px 2px rgba(60, 64, 67, 0.3), 0px 1px 3px 1px rgba(60, 64, 67, 0.15);\n",
              "      fill: #174EA6;\n",
              "    }\n",
              "\n",
              "    [theme=dark] .colab-df-convert {\n",
              "      background-color: #3B4455;\n",
              "      fill: #D2E3FC;\n",
              "    }\n",
              "\n",
              "    [theme=dark] .colab-df-convert:hover {\n",
              "      background-color: #434B5C;\n",
              "      box-shadow: 0px 1px 3px 1px rgba(0, 0, 0, 0.15);\n",
              "      filter: drop-shadow(0px 1px 2px rgba(0, 0, 0, 0.3));\n",
              "      fill: #FFFFFF;\n",
              "    }\n",
              "  </style>\n",
              "\n",
              "      <script>\n",
              "        const buttonEl =\n",
              "          document.querySelector('#df-9aee4079-b32a-4f22-b524-f28b1882f7ec button.colab-df-convert');\n",
              "        buttonEl.style.display =\n",
              "          google.colab.kernel.accessAllowed ? 'block' : 'none';\n",
              "\n",
              "        async function convertToInteractive(key) {\n",
              "          const element = document.querySelector('#df-9aee4079-b32a-4f22-b524-f28b1882f7ec');\n",
              "          const dataTable =\n",
              "            await google.colab.kernel.invokeFunction('convertToInteractive',\n",
              "                                                     [key], {});\n",
              "          if (!dataTable) return;\n",
              "\n",
              "          const docLinkHtml = 'Like what you see? Visit the ' +\n",
              "            '<a target=\"_blank\" href=https://colab.research.google.com/notebooks/data_table.ipynb>data table notebook</a>'\n",
              "            + ' to learn more about interactive tables.';\n",
              "          element.innerHTML = '';\n",
              "          dataTable['output_type'] = 'display_data';\n",
              "          await google.colab.output.renderOutput(dataTable, element);\n",
              "          const docLink = document.createElement('div');\n",
              "          docLink.innerHTML = docLinkHtml;\n",
              "          element.appendChild(docLink);\n",
              "        }\n",
              "      </script>\n",
              "    </div>\n",
              "  </div>\n",
              "  "
            ]
          },
          "metadata": {},
          "execution_count": 3
        }
      ]
    },
    {
      "cell_type": "code",
      "source": [
        "# Tạo ra x (input) cho mô hình\n",
        "x=data.drop(['theta1','theta2','theta3'],axis=1)\n",
        "x"
      ],
      "metadata": {
        "colab": {
          "base_uri": "https://localhost:8080/",
          "height": 424
        },
        "id": "YU6PmEg7SqKE",
        "outputId": "0ba3a3c7-4547-439a-83cb-ab913dd6225d"
      },
      "execution_count": null,
      "outputs": [
        {
          "output_type": "execute_result",
          "data": {
            "text/plain": [
              "                  px        py     sy\n",
              "0         110.000000  0.000000    0.0\n",
              "1         110.000000  0.000000    0.0\n",
              "2         109.951281  1.395129    4.0\n",
              "3         110.000000  0.000000    0.0\n",
              "4         109.951281  1.395129    4.0\n",
              "...              ...       ...    ...\n",
              "29266645   -8.750100 -2.047705  424.0\n",
              "29266646  -10.025391 -1.479909  428.0\n",
              "29266647  -11.337183 -1.002456  432.0\n",
              "29266648  -12.679085 -0.617672  436.0\n",
              "29266649  -14.044559 -0.327431  440.0\n",
              "\n",
              "[29266650 rows x 3 columns]"
            ],
            "text/html": [
              "\n",
              "  <div id=\"df-d3aa1712-82ea-424c-9fc6-8f9c28766d61\">\n",
              "    <div class=\"colab-df-container\">\n",
              "      <div>\n",
              "<style scoped>\n",
              "    .dataframe tbody tr th:only-of-type {\n",
              "        vertical-align: middle;\n",
              "    }\n",
              "\n",
              "    .dataframe tbody tr th {\n",
              "        vertical-align: top;\n",
              "    }\n",
              "\n",
              "    .dataframe thead th {\n",
              "        text-align: right;\n",
              "    }\n",
              "</style>\n",
              "<table border=\"1\" class=\"dataframe\">\n",
              "  <thead>\n",
              "    <tr style=\"text-align: right;\">\n",
              "      <th></th>\n",
              "      <th>px</th>\n",
              "      <th>py</th>\n",
              "      <th>sy</th>\n",
              "    </tr>\n",
              "  </thead>\n",
              "  <tbody>\n",
              "    <tr>\n",
              "      <th>0</th>\n",
              "      <td>110.000000</td>\n",
              "      <td>0.000000</td>\n",
              "      <td>0.0</td>\n",
              "    </tr>\n",
              "    <tr>\n",
              "      <th>1</th>\n",
              "      <td>110.000000</td>\n",
              "      <td>0.000000</td>\n",
              "      <td>0.0</td>\n",
              "    </tr>\n",
              "    <tr>\n",
              "      <th>2</th>\n",
              "      <td>109.951281</td>\n",
              "      <td>1.395129</td>\n",
              "      <td>4.0</td>\n",
              "    </tr>\n",
              "    <tr>\n",
              "      <th>3</th>\n",
              "      <td>110.000000</td>\n",
              "      <td>0.000000</td>\n",
              "      <td>0.0</td>\n",
              "    </tr>\n",
              "    <tr>\n",
              "      <th>4</th>\n",
              "      <td>109.951281</td>\n",
              "      <td>1.395129</td>\n",
              "      <td>4.0</td>\n",
              "    </tr>\n",
              "    <tr>\n",
              "      <th>...</th>\n",
              "      <td>...</td>\n",
              "      <td>...</td>\n",
              "      <td>...</td>\n",
              "    </tr>\n",
              "    <tr>\n",
              "      <th>29266645</th>\n",
              "      <td>-8.750100</td>\n",
              "      <td>-2.047705</td>\n",
              "      <td>424.0</td>\n",
              "    </tr>\n",
              "    <tr>\n",
              "      <th>29266646</th>\n",
              "      <td>-10.025391</td>\n",
              "      <td>-1.479909</td>\n",
              "      <td>428.0</td>\n",
              "    </tr>\n",
              "    <tr>\n",
              "      <th>29266647</th>\n",
              "      <td>-11.337183</td>\n",
              "      <td>-1.002456</td>\n",
              "      <td>432.0</td>\n",
              "    </tr>\n",
              "    <tr>\n",
              "      <th>29266648</th>\n",
              "      <td>-12.679085</td>\n",
              "      <td>-0.617672</td>\n",
              "      <td>436.0</td>\n",
              "    </tr>\n",
              "    <tr>\n",
              "      <th>29266649</th>\n",
              "      <td>-14.044559</td>\n",
              "      <td>-0.327431</td>\n",
              "      <td>440.0</td>\n",
              "    </tr>\n",
              "  </tbody>\n",
              "</table>\n",
              "<p>29266650 rows × 3 columns</p>\n",
              "</div>\n",
              "      <button class=\"colab-df-convert\" onclick=\"convertToInteractive('df-d3aa1712-82ea-424c-9fc6-8f9c28766d61')\"\n",
              "              title=\"Convert this dataframe to an interactive table.\"\n",
              "              style=\"display:none;\">\n",
              "        \n",
              "  <svg xmlns=\"http://www.w3.org/2000/svg\" height=\"24px\"viewBox=\"0 0 24 24\"\n",
              "       width=\"24px\">\n",
              "    <path d=\"M0 0h24v24H0V0z\" fill=\"none\"/>\n",
              "    <path d=\"M18.56 5.44l.94 2.06.94-2.06 2.06-.94-2.06-.94-.94-2.06-.94 2.06-2.06.94zm-11 1L8.5 8.5l.94-2.06 2.06-.94-2.06-.94L8.5 2.5l-.94 2.06-2.06.94zm10 10l.94 2.06.94-2.06 2.06-.94-2.06-.94-.94-2.06-.94 2.06-2.06.94z\"/><path d=\"M17.41 7.96l-1.37-1.37c-.4-.4-.92-.59-1.43-.59-.52 0-1.04.2-1.43.59L10.3 9.45l-7.72 7.72c-.78.78-.78 2.05 0 2.83L4 21.41c.39.39.9.59 1.41.59.51 0 1.02-.2 1.41-.59l7.78-7.78 2.81-2.81c.8-.78.8-2.07 0-2.86zM5.41 20L4 18.59l7.72-7.72 1.47 1.35L5.41 20z\"/>\n",
              "  </svg>\n",
              "      </button>\n",
              "      \n",
              "  <style>\n",
              "    .colab-df-container {\n",
              "      display:flex;\n",
              "      flex-wrap:wrap;\n",
              "      gap: 12px;\n",
              "    }\n",
              "\n",
              "    .colab-df-convert {\n",
              "      background-color: #E8F0FE;\n",
              "      border: none;\n",
              "      border-radius: 50%;\n",
              "      cursor: pointer;\n",
              "      display: none;\n",
              "      fill: #1967D2;\n",
              "      height: 32px;\n",
              "      padding: 0 0 0 0;\n",
              "      width: 32px;\n",
              "    }\n",
              "\n",
              "    .colab-df-convert:hover {\n",
              "      background-color: #E2EBFA;\n",
              "      box-shadow: 0px 1px 2px rgba(60, 64, 67, 0.3), 0px 1px 3px 1px rgba(60, 64, 67, 0.15);\n",
              "      fill: #174EA6;\n",
              "    }\n",
              "\n",
              "    [theme=dark] .colab-df-convert {\n",
              "      background-color: #3B4455;\n",
              "      fill: #D2E3FC;\n",
              "    }\n",
              "\n",
              "    [theme=dark] .colab-df-convert:hover {\n",
              "      background-color: #434B5C;\n",
              "      box-shadow: 0px 1px 3px 1px rgba(0, 0, 0, 0.15);\n",
              "      filter: drop-shadow(0px 1px 2px rgba(0, 0, 0, 0.3));\n",
              "      fill: #FFFFFF;\n",
              "    }\n",
              "  </style>\n",
              "\n",
              "      <script>\n",
              "        const buttonEl =\n",
              "          document.querySelector('#df-d3aa1712-82ea-424c-9fc6-8f9c28766d61 button.colab-df-convert');\n",
              "        buttonEl.style.display =\n",
              "          google.colab.kernel.accessAllowed ? 'block' : 'none';\n",
              "\n",
              "        async function convertToInteractive(key) {\n",
              "          const element = document.querySelector('#df-d3aa1712-82ea-424c-9fc6-8f9c28766d61');\n",
              "          const dataTable =\n",
              "            await google.colab.kernel.invokeFunction('convertToInteractive',\n",
              "                                                     [key], {});\n",
              "          if (!dataTable) return;\n",
              "\n",
              "          const docLinkHtml = 'Like what you see? Visit the ' +\n",
              "            '<a target=\"_blank\" href=https://colab.research.google.com/notebooks/data_table.ipynb>data table notebook</a>'\n",
              "            + ' to learn more about interactive tables.';\n",
              "          element.innerHTML = '';\n",
              "          dataTable['output_type'] = 'display_data';\n",
              "          await google.colab.output.renderOutput(dataTable, element);\n",
              "          const docLink = document.createElement('div');\n",
              "          docLink.innerHTML = docLinkHtml;\n",
              "          element.appendChild(docLink);\n",
              "        }\n",
              "      </script>\n",
              "    </div>\n",
              "  </div>\n",
              "  "
            ]
          },
          "metadata": {},
          "execution_count": 4
        }
      ]
    },
    {
      "cell_type": "code",
      "source": [
        "# Tạo ra y (output) cho mô hình\n",
        "y=data[['theta1','theta2','theta3']]\n",
        "y"
      ],
      "metadata": {
        "colab": {
          "base_uri": "https://localhost:8080/",
          "height": 424
        },
        "id": "FH57QFpeSu8D",
        "outputId": "911c354d-1bd5-401e-9b15-cb83dd839b34"
      },
      "execution_count": null,
      "outputs": [
        {
          "output_type": "execute_result",
          "data": {
            "text/plain": [
              "          theta1  theta2  theta3\n",
              "0            0.0     0.0     0.0\n",
              "1            0.0     0.0     0.0\n",
              "2            0.0     0.0     4.0\n",
              "3            0.0     0.0     0.0\n",
              "4            0.0     0.0     4.0\n",
              "...          ...     ...     ...\n",
              "29266645   176.0   148.0   100.0\n",
              "29266646   176.0   148.0   104.0\n",
              "29266647   176.0   148.0   108.0\n",
              "29266648   176.0   148.0   112.0\n",
              "29266649   176.0   148.0   116.0\n",
              "\n",
              "[29266650 rows x 3 columns]"
            ],
            "text/html": [
              "\n",
              "  <div id=\"df-0a7c175b-85ad-42f2-b35a-271f0b82b533\">\n",
              "    <div class=\"colab-df-container\">\n",
              "      <div>\n",
              "<style scoped>\n",
              "    .dataframe tbody tr th:only-of-type {\n",
              "        vertical-align: middle;\n",
              "    }\n",
              "\n",
              "    .dataframe tbody tr th {\n",
              "        vertical-align: top;\n",
              "    }\n",
              "\n",
              "    .dataframe thead th {\n",
              "        text-align: right;\n",
              "    }\n",
              "</style>\n",
              "<table border=\"1\" class=\"dataframe\">\n",
              "  <thead>\n",
              "    <tr style=\"text-align: right;\">\n",
              "      <th></th>\n",
              "      <th>theta1</th>\n",
              "      <th>theta2</th>\n",
              "      <th>theta3</th>\n",
              "    </tr>\n",
              "  </thead>\n",
              "  <tbody>\n",
              "    <tr>\n",
              "      <th>0</th>\n",
              "      <td>0.0</td>\n",
              "      <td>0.0</td>\n",
              "      <td>0.0</td>\n",
              "    </tr>\n",
              "    <tr>\n",
              "      <th>1</th>\n",
              "      <td>0.0</td>\n",
              "      <td>0.0</td>\n",
              "      <td>0.0</td>\n",
              "    </tr>\n",
              "    <tr>\n",
              "      <th>2</th>\n",
              "      <td>0.0</td>\n",
              "      <td>0.0</td>\n",
              "      <td>4.0</td>\n",
              "    </tr>\n",
              "    <tr>\n",
              "      <th>3</th>\n",
              "      <td>0.0</td>\n",
              "      <td>0.0</td>\n",
              "      <td>0.0</td>\n",
              "    </tr>\n",
              "    <tr>\n",
              "      <th>4</th>\n",
              "      <td>0.0</td>\n",
              "      <td>0.0</td>\n",
              "      <td>4.0</td>\n",
              "    </tr>\n",
              "    <tr>\n",
              "      <th>...</th>\n",
              "      <td>...</td>\n",
              "      <td>...</td>\n",
              "      <td>...</td>\n",
              "    </tr>\n",
              "    <tr>\n",
              "      <th>29266645</th>\n",
              "      <td>176.0</td>\n",
              "      <td>148.0</td>\n",
              "      <td>100.0</td>\n",
              "    </tr>\n",
              "    <tr>\n",
              "      <th>29266646</th>\n",
              "      <td>176.0</td>\n",
              "      <td>148.0</td>\n",
              "      <td>104.0</td>\n",
              "    </tr>\n",
              "    <tr>\n",
              "      <th>29266647</th>\n",
              "      <td>176.0</td>\n",
              "      <td>148.0</td>\n",
              "      <td>108.0</td>\n",
              "    </tr>\n",
              "    <tr>\n",
              "      <th>29266648</th>\n",
              "      <td>176.0</td>\n",
              "      <td>148.0</td>\n",
              "      <td>112.0</td>\n",
              "    </tr>\n",
              "    <tr>\n",
              "      <th>29266649</th>\n",
              "      <td>176.0</td>\n",
              "      <td>148.0</td>\n",
              "      <td>116.0</td>\n",
              "    </tr>\n",
              "  </tbody>\n",
              "</table>\n",
              "<p>29266650 rows × 3 columns</p>\n",
              "</div>\n",
              "      <button class=\"colab-df-convert\" onclick=\"convertToInteractive('df-0a7c175b-85ad-42f2-b35a-271f0b82b533')\"\n",
              "              title=\"Convert this dataframe to an interactive table.\"\n",
              "              style=\"display:none;\">\n",
              "        \n",
              "  <svg xmlns=\"http://www.w3.org/2000/svg\" height=\"24px\"viewBox=\"0 0 24 24\"\n",
              "       width=\"24px\">\n",
              "    <path d=\"M0 0h24v24H0V0z\" fill=\"none\"/>\n",
              "    <path d=\"M18.56 5.44l.94 2.06.94-2.06 2.06-.94-2.06-.94-.94-2.06-.94 2.06-2.06.94zm-11 1L8.5 8.5l.94-2.06 2.06-.94-2.06-.94L8.5 2.5l-.94 2.06-2.06.94zm10 10l.94 2.06.94-2.06 2.06-.94-2.06-.94-.94-2.06-.94 2.06-2.06.94z\"/><path d=\"M17.41 7.96l-1.37-1.37c-.4-.4-.92-.59-1.43-.59-.52 0-1.04.2-1.43.59L10.3 9.45l-7.72 7.72c-.78.78-.78 2.05 0 2.83L4 21.41c.39.39.9.59 1.41.59.51 0 1.02-.2 1.41-.59l7.78-7.78 2.81-2.81c.8-.78.8-2.07 0-2.86zM5.41 20L4 18.59l7.72-7.72 1.47 1.35L5.41 20z\"/>\n",
              "  </svg>\n",
              "      </button>\n",
              "      \n",
              "  <style>\n",
              "    .colab-df-container {\n",
              "      display:flex;\n",
              "      flex-wrap:wrap;\n",
              "      gap: 12px;\n",
              "    }\n",
              "\n",
              "    .colab-df-convert {\n",
              "      background-color: #E8F0FE;\n",
              "      border: none;\n",
              "      border-radius: 50%;\n",
              "      cursor: pointer;\n",
              "      display: none;\n",
              "      fill: #1967D2;\n",
              "      height: 32px;\n",
              "      padding: 0 0 0 0;\n",
              "      width: 32px;\n",
              "    }\n",
              "\n",
              "    .colab-df-convert:hover {\n",
              "      background-color: #E2EBFA;\n",
              "      box-shadow: 0px 1px 2px rgba(60, 64, 67, 0.3), 0px 1px 3px 1px rgba(60, 64, 67, 0.15);\n",
              "      fill: #174EA6;\n",
              "    }\n",
              "\n",
              "    [theme=dark] .colab-df-convert {\n",
              "      background-color: #3B4455;\n",
              "      fill: #D2E3FC;\n",
              "    }\n",
              "\n",
              "    [theme=dark] .colab-df-convert:hover {\n",
              "      background-color: #434B5C;\n",
              "      box-shadow: 0px 1px 3px 1px rgba(0, 0, 0, 0.15);\n",
              "      filter: drop-shadow(0px 1px 2px rgba(0, 0, 0, 0.3));\n",
              "      fill: #FFFFFF;\n",
              "    }\n",
              "  </style>\n",
              "\n",
              "      <script>\n",
              "        const buttonEl =\n",
              "          document.querySelector('#df-0a7c175b-85ad-42f2-b35a-271f0b82b533 button.colab-df-convert');\n",
              "        buttonEl.style.display =\n",
              "          google.colab.kernel.accessAllowed ? 'block' : 'none';\n",
              "\n",
              "        async function convertToInteractive(key) {\n",
              "          const element = document.querySelector('#df-0a7c175b-85ad-42f2-b35a-271f0b82b533');\n",
              "          const dataTable =\n",
              "            await google.colab.kernel.invokeFunction('convertToInteractive',\n",
              "                                                     [key], {});\n",
              "          if (!dataTable) return;\n",
              "\n",
              "          const docLinkHtml = 'Like what you see? Visit the ' +\n",
              "            '<a target=\"_blank\" href=https://colab.research.google.com/notebooks/data_table.ipynb>data table notebook</a>'\n",
              "            + ' to learn more about interactive tables.';\n",
              "          element.innerHTML = '';\n",
              "          dataTable['output_type'] = 'display_data';\n",
              "          await google.colab.output.renderOutput(dataTable, element);\n",
              "          const docLink = document.createElement('div');\n",
              "          docLink.innerHTML = docLinkHtml;\n",
              "          element.appendChild(docLink);\n",
              "        }\n",
              "      </script>\n",
              "    </div>\n",
              "  </div>\n",
              "  "
            ]
          },
          "metadata": {},
          "execution_count": 5
        }
      ]
    },
    {
      "cell_type": "code",
      "source": [
        "x.shape"
      ],
      "metadata": {
        "colab": {
          "base_uri": "https://localhost:8080/"
        },
        "id": "7uNiuyCZSyxD",
        "outputId": "911cc2e0-36c4-452c-bbf1-7875bd6b5968"
      },
      "execution_count": null,
      "outputs": [
        {
          "output_type": "execute_result",
          "data": {
            "text/plain": [
              "(29266650, 3)"
            ]
          },
          "metadata": {},
          "execution_count": 6
        }
      ]
    },
    {
      "cell_type": "code",
      "source": [
        "y.shape"
      ],
      "metadata": {
        "colab": {
          "base_uri": "https://localhost:8080/"
        },
        "id": "oJV5pNByS08L",
        "outputId": "b4df03d0-0a14-4e71-c258-ffba067d37c6"
      },
      "execution_count": null,
      "outputs": [
        {
          "output_type": "execute_result",
          "data": {
            "text/plain": [
              "(29266650, 3)"
            ]
          },
          "metadata": {},
          "execution_count": 7
        }
      ]
    },
    {
      "cell_type": "code",
      "source": [
        "# Cắt phần dữ liệu x, y đã tạo ra 2 phần với phần training là 60% và test là 40%\n",
        "x_train,x_test,y_train,y_test=train_test_split(x,y,test_size=0.4)"
      ],
      "metadata": {
        "id": "TlFY909vS2RT"
      },
      "execution_count": null,
      "outputs": []
    },
    {
      "cell_type": "code",
      "source": [
        "x_train.shape"
      ],
      "metadata": {
        "colab": {
          "base_uri": "https://localhost:8080/"
        },
        "id": "KOWBs-rbS7KT",
        "outputId": "cdbf6918-fed7-4649-9944-2bb3c7750041"
      },
      "execution_count": null,
      "outputs": [
        {
          "output_type": "execute_result",
          "data": {
            "text/plain": [
              "(17559990, 3)"
            ]
          },
          "metadata": {},
          "execution_count": 9
        }
      ]
    },
    {
      "cell_type": "code",
      "source": [
        "x_test.shape"
      ],
      "metadata": {
        "colab": {
          "base_uri": "https://localhost:8080/"
        },
        "id": "MrG5MBChwdhv",
        "outputId": "364987d9-0c44-4e06-e4e4-99036870248f"
      },
      "execution_count": null,
      "outputs": [
        {
          "output_type": "execute_result",
          "data": {
            "text/plain": [
              "(11706660, 3)"
            ]
          },
          "metadata": {},
          "execution_count": 10
        }
      ]
    },
    {
      "cell_type": "code",
      "source": [
        "y_train.shape"
      ],
      "metadata": {
        "colab": {
          "base_uri": "https://localhost:8080/"
        },
        "id": "NV_tPJXDS_Hj",
        "outputId": "6281a2a4-762b-4f36-d8e3-704db1801c5e"
      },
      "execution_count": null,
      "outputs": [
        {
          "output_type": "execute_result",
          "data": {
            "text/plain": [
              "(17559990, 3)"
            ]
          },
          "metadata": {},
          "execution_count": 11
        }
      ]
    },
    {
      "cell_type": "code",
      "source": [
        "y_test.shape"
      ],
      "metadata": {
        "colab": {
          "base_uri": "https://localhost:8080/"
        },
        "id": "g5GwDu6Twfse",
        "outputId": "8c2cd25a-226f-4bd3-e2f1-92b66b604519"
      },
      "execution_count": null,
      "outputs": [
        {
          "output_type": "execute_result",
          "data": {
            "text/plain": [
              "(11706660, 3)"
            ]
          },
          "metadata": {},
          "execution_count": 12
        }
      ]
    },
    {
      "cell_type": "code",
      "source": [
        "# Tạo ra mạng ANN để train mô hình\n",
        "model=Sequential()\n",
        "# Tạo lớp ẩn thứ nhất với 3 tín hiệu vào và có 128 tín hiệu ra sử dụng hàm relu\n",
        "model.add(Dense(128,activation='relu',input_shape=(3,)))\n",
        "# Tạo lớp ẩn thứ hai với 128 tín hiệu vào và có 64 tín hiệu ra sử dụng hàm relu\n",
        "model.add(Dense(64,activation='relu'))\n",
        "# Tạo lớp ẩn thứ ba với 64 tín hiệu vào và có 32 tín hiệu ra sử dụng hàm relu\n",
        "model.add(Dense(32,activation='relu'))\n",
        "# Tạo lớp ẩn thứ tư với 32 tín hiệu vào và có 16 tín hiệu ra sử dụng hàm relu\n",
        "model.add(Dense(16,activation='relu'))\n",
        "# Tạo lớp ẩn thứ năm với 16 tín hiệu vào và có 3 tín hiệu ra sử dụng hàm linear\n",
        "model.add(Dense(3,activation='linear'))\n",
        "model.summary()"
      ],
      "metadata": {
        "colab": {
          "base_uri": "https://localhost:8080/"
        },
        "id": "yA_ZWe5RTAXk",
        "outputId": "d4943e7e-350a-4991-b004-b986cf94140a"
      },
      "execution_count": null,
      "outputs": [
        {
          "output_type": "stream",
          "name": "stdout",
          "text": [
            "Model: \"sequential\"\n",
            "_________________________________________________________________\n",
            " Layer (type)                Output Shape              Param #   \n",
            "=================================================================\n",
            " dense (Dense)               (None, 128)               512       \n",
            "                                                                 \n",
            " dense_1 (Dense)             (None, 64)                8256      \n",
            "                                                                 \n",
            " dense_2 (Dense)             (None, 32)                2080      \n",
            "                                                                 \n",
            " dense_3 (Dense)             (None, 16)                528       \n",
            "                                                                 \n",
            " dense_4 (Dense)             (None, 3)                 51        \n",
            "                                                                 \n",
            "=================================================================\n",
            "Total params: 11,427\n",
            "Trainable params: 11,427\n",
            "Non-trainable params: 0\n",
            "_________________________________________________________________\n"
          ]
        }
      ]
    },
    {
      "cell_type": "code",
      "source": [
        "# Biên dịch\n",
        "model.compile(loss='mean_squared_error',optimizer='adam',metrics='mae')\n",
        "#Gán biến lại để vẽ đồ thị, với 500 lần học (epochs), mỗi lần học thì chỉ học␣10240 dữ liệu (batch_size), khi sai số không thay đổi trong 50 lần học thì sẽ␣ dừng học\n",
        "history= model.fit(x_train, y_train, batch_size=10240, epochs=500, verbose=1, validation_split=0.2,callbacks=[EarlyStopping(monitor='val_loss', patience=30)])"
      ],
      "metadata": {
        "id": "poHyuFZYTCd8",
        "colab": {
          "base_uri": "https://localhost:8080/"
        },
        "outputId": "2006ff65-9ec8-4b8f-c402-cc6f3abdea31"
      },
      "execution_count": null,
      "outputs": [
        {
          "output_type": "stream",
          "name": "stdout",
          "text": [
            "Epoch 1/500\n",
            "1372/1372 [==============================] - 15s 8ms/step - loss: 343.5050 - mae: 13.3223 - val_loss: 342.8729 - val_mae: 14.2191\n",
            "Epoch 2/500\n",
            "1372/1372 [==============================] - 11s 8ms/step - loss: 118.6030 - mae: 7.9275 - val_loss: 56.3420 - val_mae: 5.8191\n",
            "Epoch 3/500\n",
            "1372/1372 [==============================] - 11s 8ms/step - loss: 59.0534 - mae: 5.7043 - val_loss: 33.1218 - val_mae: 4.4236\n",
            "Epoch 4/500\n",
            "1372/1372 [==============================] - 12s 8ms/step - loss: 48.0241 - mae: 5.1629 - val_loss: 72.5006 - val_mae: 6.2304\n",
            "Epoch 5/500\n",
            "1372/1372 [==============================] - 11s 8ms/step - loss: 43.8204 - mae: 4.9280 - val_loss: 33.1465 - val_mae: 4.6285\n",
            "Epoch 6/500\n",
            "1372/1372 [==============================] - 11s 8ms/step - loss: 40.4776 - mae: 4.7231 - val_loss: 28.5971 - val_mae: 4.2796\n",
            "Epoch 7/500\n",
            "1372/1372 [==============================] - 11s 8ms/step - loss: 38.0395 - mae: 4.5793 - val_loss: 55.4956 - val_mae: 5.9562\n",
            "Epoch 8/500\n",
            "1372/1372 [==============================] - 11s 8ms/step - loss: 35.6912 - mae: 4.4376 - val_loss: 29.4359 - val_mae: 4.3206\n",
            "Epoch 9/500\n",
            "1372/1372 [==============================] - 11s 8ms/step - loss: 33.6364 - mae: 4.2878 - val_loss: 28.0233 - val_mae: 4.2407\n",
            "Epoch 10/500\n",
            "1372/1372 [==============================] - 11s 8ms/step - loss: 31.1257 - mae: 4.1142 - val_loss: 52.7259 - val_mae: 5.4254\n",
            "Epoch 11/500\n",
            "1372/1372 [==============================] - 11s 8ms/step - loss: 29.2315 - mae: 3.9748 - val_loss: 23.4319 - val_mae: 3.3782\n",
            "Epoch 12/500\n",
            "1372/1372 [==============================] - 11s 8ms/step - loss: 27.0732 - mae: 3.8215 - val_loss: 13.4106 - val_mae: 2.5414\n",
            "Epoch 13/500\n",
            "1372/1372 [==============================] - 11s 8ms/step - loss: 25.0889 - mae: 3.6611 - val_loss: 56.5162 - val_mae: 6.1249\n",
            "Epoch 14/500\n",
            "1372/1372 [==============================] - 11s 8ms/step - loss: 23.8494 - mae: 3.5717 - val_loss: 27.3327 - val_mae: 3.8643\n",
            "Epoch 15/500\n",
            "1372/1372 [==============================] - 11s 8ms/step - loss: 22.8548 - mae: 3.4848 - val_loss: 47.8579 - val_mae: 5.5192\n",
            "Epoch 16/500\n",
            "1372/1372 [==============================] - 11s 8ms/step - loss: 22.0705 - mae: 3.4185 - val_loss: 29.4199 - val_mae: 4.1381\n",
            "Epoch 17/500\n",
            "1372/1372 [==============================] - 11s 8ms/step - loss: 21.5012 - mae: 3.3599 - val_loss: 59.0676 - val_mae: 6.1517\n",
            "Epoch 18/500\n",
            "1372/1372 [==============================] - 11s 8ms/step - loss: 20.5273 - mae: 3.3003 - val_loss: 8.7479 - val_mae: 2.2487\n",
            "Epoch 19/500\n",
            "1372/1372 [==============================] - 14s 10ms/step - loss: 20.3165 - mae: 3.2696 - val_loss: 17.5312 - val_mae: 3.3502\n",
            "Epoch 20/500\n",
            "1372/1372 [==============================] - 12s 9ms/step - loss: 19.4971 - mae: 3.1938 - val_loss: 7.6604 - val_mae: 2.0659\n",
            "Epoch 21/500\n",
            "1372/1372 [==============================] - 11s 8ms/step - loss: 18.8969 - mae: 3.1492 - val_loss: 7.4469 - val_mae: 1.9231\n",
            "Epoch 22/500\n",
            "1372/1372 [==============================] - 11s 8ms/step - loss: 18.5794 - mae: 3.1089 - val_loss: 9.2054 - val_mae: 2.3635\n",
            "Epoch 23/500\n",
            "1372/1372 [==============================] - 11s 8ms/step - loss: 18.0293 - mae: 3.0506 - val_loss: 8.8194 - val_mae: 2.2790\n",
            "Epoch 24/500\n",
            "1372/1372 [==============================] - 11s 8ms/step - loss: 17.7578 - mae: 3.0342 - val_loss: 40.8888 - val_mae: 5.0798\n",
            "Epoch 25/500\n",
            "1372/1372 [==============================] - 11s 8ms/step - loss: 17.2719 - mae: 2.9824 - val_loss: 8.7842 - val_mae: 2.2647\n",
            "Epoch 26/500\n",
            "1372/1372 [==============================] - 11s 8ms/step - loss: 16.6757 - mae: 2.9211 - val_loss: 40.5189 - val_mae: 4.9690\n",
            "Epoch 27/500\n",
            "1372/1372 [==============================] - 11s 8ms/step - loss: 16.3649 - mae: 2.9070 - val_loss: 18.4370 - val_mae: 3.1353\n",
            "Epoch 28/500\n",
            "1372/1372 [==============================] - 11s 8ms/step - loss: 16.2556 - mae: 2.8750 - val_loss: 9.2358 - val_mae: 2.0052\n",
            "Epoch 29/500\n",
            "1372/1372 [==============================] - 11s 8ms/step - loss: 15.5696 - mae: 2.8190 - val_loss: 15.9666 - val_mae: 3.1279\n",
            "Epoch 30/500\n",
            "1372/1372 [==============================] - 11s 8ms/step - loss: 15.4128 - mae: 2.7892 - val_loss: 6.1349 - val_mae: 1.6470\n",
            "Epoch 31/500\n",
            "1372/1372 [==============================] - 11s 8ms/step - loss: 15.0249 - mae: 2.7552 - val_loss: 5.5887 - val_mae: 1.6664\n",
            "Epoch 32/500\n",
            "1372/1372 [==============================] - 11s 8ms/step - loss: 14.6670 - mae: 2.7321 - val_loss: 6.9697 - val_mae: 1.9933\n",
            "Epoch 33/500\n",
            "1372/1372 [==============================] - 11s 8ms/step - loss: 15.2193 - mae: 2.7438 - val_loss: 12.3059 - val_mae: 2.7161\n",
            "Epoch 34/500\n",
            "1372/1372 [==============================] - 11s 8ms/step - loss: 13.9753 - mae: 2.6531 - val_loss: 6.6099 - val_mae: 1.6994\n",
            "Epoch 35/500\n",
            "1372/1372 [==============================] - 11s 8ms/step - loss: 14.1068 - mae: 2.6494 - val_loss: 20.1055 - val_mae: 3.5209\n",
            "Epoch 36/500\n",
            "1372/1372 [==============================] - 11s 8ms/step - loss: 13.6706 - mae: 2.6148 - val_loss: 5.7429 - val_mae: 1.6500\n",
            "Epoch 37/500\n",
            "1372/1372 [==============================] - 11s 8ms/step - loss: 13.4190 - mae: 2.5970 - val_loss: 6.8943 - val_mae: 1.7131\n",
            "Epoch 38/500\n",
            "1372/1372 [==============================] - 11s 8ms/step - loss: 13.5128 - mae: 2.5771 - val_loss: 16.9490 - val_mae: 3.1855\n",
            "Epoch 39/500\n",
            "1372/1372 [==============================] - 11s 8ms/step - loss: 13.0026 - mae: 2.5342 - val_loss: 14.9109 - val_mae: 2.8067\n",
            "Epoch 40/500\n",
            "1372/1372 [==============================] - 11s 8ms/step - loss: 12.9560 - mae: 2.5139 - val_loss: 5.5833 - val_mae: 1.5170\n",
            "Epoch 41/500\n",
            "1372/1372 [==============================] - 11s 8ms/step - loss: 12.6479 - mae: 2.4928 - val_loss: 7.3858 - val_mae: 2.1147\n",
            "Epoch 42/500\n",
            "1372/1372 [==============================] - 11s 8ms/step - loss: 12.5396 - mae: 2.4636 - val_loss: 23.7821 - val_mae: 3.8503\n",
            "Epoch 43/500\n",
            "1372/1372 [==============================] - 11s 8ms/step - loss: 12.1125 - mae: 2.4477 - val_loss: 5.2755 - val_mae: 1.4677\n",
            "Epoch 44/500\n",
            "1372/1372 [==============================] - 11s 8ms/step - loss: 12.2375 - mae: 2.4470 - val_loss: 5.8944 - val_mae: 1.7415\n",
            "Epoch 45/500\n",
            "1372/1372 [==============================] - 11s 8ms/step - loss: 11.5414 - mae: 2.3928 - val_loss: 38.9105 - val_mae: 4.9796\n",
            "Epoch 46/500\n",
            "1372/1372 [==============================] - 11s 8ms/step - loss: 11.7009 - mae: 2.3967 - val_loss: 15.2123 - val_mae: 2.8705\n",
            "Epoch 47/500\n",
            "1372/1372 [==============================] - 11s 8ms/step - loss: 11.4003 - mae: 2.3758 - val_loss: 13.2697 - val_mae: 2.8455\n",
            "Epoch 48/500\n",
            "1372/1372 [==============================] - 11s 8ms/step - loss: 11.5416 - mae: 2.3559 - val_loss: 7.2492 - val_mae: 1.7796\n",
            "Epoch 49/500\n",
            "1372/1372 [==============================] - 11s 8ms/step - loss: 11.0962 - mae: 2.3337 - val_loss: 13.4604 - val_mae: 2.9098\n",
            "Epoch 50/500\n",
            "1372/1372 [==============================] - 11s 8ms/step - loss: 10.9351 - mae: 2.3038 - val_loss: 9.1853 - val_mae: 2.1059\n",
            "Epoch 51/500\n",
            "1372/1372 [==============================] - 11s 8ms/step - loss: 10.8695 - mae: 2.2943 - val_loss: 17.7631 - val_mae: 3.1718\n",
            "Epoch 52/500\n",
            "1372/1372 [==============================] - 11s 8ms/step - loss: 10.7015 - mae: 2.2784 - val_loss: 10.4578 - val_mae: 2.4873\n",
            "Epoch 53/500\n",
            "1372/1372 [==============================] - 11s 8ms/step - loss: 10.6926 - mae: 2.2560 - val_loss: 4.5802 - val_mae: 1.4252\n",
            "Epoch 54/500\n",
            "1372/1372 [==============================] - 11s 8ms/step - loss: 10.3793 - mae: 2.2247 - val_loss: 12.7663 - val_mae: 2.5655\n",
            "Epoch 55/500\n",
            "1372/1372 [==============================] - 11s 8ms/step - loss: 10.3022 - mae: 2.2231 - val_loss: 10.0803 - val_mae: 2.2488\n",
            "Epoch 56/500\n",
            "1372/1372 [==============================] - 11s 8ms/step - loss: 10.0593 - mae: 2.1921 - val_loss: 6.5459 - val_mae: 1.6940\n",
            "Epoch 57/500\n",
            "1372/1372 [==============================] - 11s 8ms/step - loss: 10.0894 - mae: 2.1916 - val_loss: 11.1619 - val_mae: 2.4243\n",
            "Epoch 58/500\n",
            "1372/1372 [==============================] - 11s 8ms/step - loss: 9.8866 - mae: 2.1631 - val_loss: 4.8498 - val_mae: 1.4151\n",
            "Epoch 59/500\n",
            "1372/1372 [==============================] - 11s 8ms/step - loss: 9.7688 - mae: 2.1494 - val_loss: 4.7138 - val_mae: 1.5936\n",
            "Epoch 60/500\n",
            "1372/1372 [==============================] - 11s 8ms/step - loss: 9.6207 - mae: 2.1380 - val_loss: 14.1507 - val_mae: 2.8588\n",
            "Epoch 61/500\n",
            "1372/1372 [==============================] - 11s 8ms/step - loss: 9.5187 - mae: 2.1260 - val_loss: 6.2369 - val_mae: 1.6615\n",
            "Epoch 62/500\n",
            "1372/1372 [==============================] - 11s 8ms/step - loss: 9.3915 - mae: 2.1008 - val_loss: 7.3488 - val_mae: 1.8242\n",
            "Epoch 63/500\n",
            "1372/1372 [==============================] - 11s 8ms/step - loss: 9.1720 - mae: 2.0755 - val_loss: 12.5710 - val_mae: 2.7905\n",
            "Epoch 64/500\n",
            "1372/1372 [==============================] - 11s 8ms/step - loss: 9.2012 - mae: 2.0850 - val_loss: 14.6030 - val_mae: 2.9918\n",
            "Epoch 65/500\n",
            "1372/1372 [==============================] - 11s 8ms/step - loss: 9.0755 - mae: 2.0602 - val_loss: 35.1291 - val_mae: 4.6496\n",
            "Epoch 66/500\n",
            "1372/1372 [==============================] - 11s 8ms/step - loss: 9.0417 - mae: 2.0596 - val_loss: 9.3810 - val_mae: 2.3177\n",
            "Epoch 67/500\n",
            "1372/1372 [==============================] - 11s 8ms/step - loss: 8.7932 - mae: 2.0344 - val_loss: 3.7353 - val_mae: 1.3137\n",
            "Epoch 68/500\n",
            "1372/1372 [==============================] - 11s 8ms/step - loss: 8.7237 - mae: 2.0220 - val_loss: 3.6062 - val_mae: 1.2910\n",
            "Epoch 69/500\n",
            "1372/1372 [==============================] - 11s 8ms/step - loss: 8.7128 - mae: 2.0181 - val_loss: 8.4999 - val_mae: 2.2179\n",
            "Epoch 70/500\n",
            "1372/1372 [==============================] - 11s 8ms/step - loss: 8.6265 - mae: 1.9955 - val_loss: 4.3837 - val_mae: 1.3605\n",
            "Epoch 71/500\n",
            "1372/1372 [==============================] - 11s 8ms/step - loss: 8.3897 - mae: 1.9727 - val_loss: 8.0365 - val_mae: 2.0683\n",
            "Epoch 72/500\n",
            "1372/1372 [==============================] - 11s 8ms/step - loss: 8.3698 - mae: 1.9788 - val_loss: 6.3959 - val_mae: 1.6657\n",
            "Epoch 73/500\n",
            "1372/1372 [==============================] - 11s 8ms/step - loss: 8.3121 - mae: 1.9632 - val_loss: 3.8897 - val_mae: 1.3589\n",
            "Epoch 74/500\n",
            "1372/1372 [==============================] - 11s 8ms/step - loss: 8.3618 - mae: 1.9615 - val_loss: 3.9841 - val_mae: 1.3418\n",
            "Epoch 75/500\n",
            "1372/1372 [==============================] - 11s 8ms/step - loss: 8.0536 - mae: 1.9398 - val_loss: 3.8328 - val_mae: 1.2458\n",
            "Epoch 76/500\n",
            "1372/1372 [==============================] - 11s 8ms/step - loss: 8.1189 - mae: 1.9342 - val_loss: 9.4773 - val_mae: 2.3369\n",
            "Epoch 77/500\n",
            "1372/1372 [==============================] - 11s 8ms/step - loss: 7.9925 - mae: 1.9337 - val_loss: 9.4881 - val_mae: 2.1410\n",
            "Epoch 78/500\n",
            "1372/1372 [==============================] - 11s 8ms/step - loss: 7.9203 - mae: 1.9249 - val_loss: 7.4388 - val_mae: 2.0057\n",
            "Epoch 79/500\n",
            "1372/1372 [==============================] - 11s 8ms/step - loss: 7.8596 - mae: 1.9266 - val_loss: 4.9977 - val_mae: 1.5307\n",
            "Epoch 80/500\n",
            "1372/1372 [==============================] - 11s 8ms/step - loss: 7.9361 - mae: 1.9315 - val_loss: 4.5271 - val_mae: 1.4274\n",
            "Epoch 81/500\n",
            "1372/1372 [==============================] - 11s 8ms/step - loss: 7.7522 - mae: 1.9125 - val_loss: 19.4299 - val_mae: 3.3377\n",
            "Epoch 82/500\n",
            "1372/1372 [==============================] - 11s 8ms/step - loss: 7.8129 - mae: 1.9146 - val_loss: 9.3841 - val_mae: 2.3920\n",
            "Epoch 83/500\n",
            "1372/1372 [==============================] - 11s 8ms/step - loss: 8.2992 - mae: 1.9502 - val_loss: 3.0873 - val_mae: 1.1001\n",
            "Epoch 84/500\n",
            "1372/1372 [==============================] - 11s 8ms/step - loss: 7.5757 - mae: 1.8748 - val_loss: 4.4028 - val_mae: 1.4903\n",
            "Epoch 85/500\n",
            "1372/1372 [==============================] - 11s 8ms/step - loss: 7.5733 - mae: 1.8738 - val_loss: 3.6419 - val_mae: 1.2313\n",
            "Epoch 86/500\n",
            "1372/1372 [==============================] - 11s 8ms/step - loss: 8.1070 - mae: 1.9162 - val_loss: 3.3553 - val_mae: 1.1773\n",
            "Epoch 87/500\n",
            "1372/1372 [==============================] - 11s 8ms/step - loss: 8.8904 - mae: 1.9918 - val_loss: 4.7546 - val_mae: 1.4408\n",
            "Epoch 88/500\n",
            "1372/1372 [==============================] - 11s 8ms/step - loss: 7.0868 - mae: 1.8174 - val_loss: 5.2925 - val_mae: 1.6730\n",
            "Epoch 89/500\n",
            "1372/1372 [==============================] - 11s 8ms/step - loss: 7.3817 - mae: 1.8539 - val_loss: 4.3531 - val_mae: 1.3618\n",
            "Epoch 90/500\n",
            "1372/1372 [==============================] - 11s 8ms/step - loss: 7.3298 - mae: 1.8253 - val_loss: 10.5213 - val_mae: 2.4110\n",
            "Epoch 91/500\n",
            "1372/1372 [==============================] - 11s 8ms/step - loss: 7.8013 - mae: 1.8909 - val_loss: 13.0729 - val_mae: 2.4234\n",
            "Epoch 92/500\n",
            "1372/1372 [==============================] - 11s 8ms/step - loss: 7.6634 - mae: 1.8597 - val_loss: 11.0390 - val_mae: 2.2257\n",
            "Epoch 93/500\n",
            "1372/1372 [==============================] - 11s 8ms/step - loss: 7.8508 - mae: 1.8633 - val_loss: 9.0135 - val_mae: 2.2252\n",
            "Epoch 94/500\n",
            "1372/1372 [==============================] - 11s 8ms/step - loss: 7.8156 - mae: 1.8643 - val_loss: 5.9670 - val_mae: 1.6225\n",
            "Epoch 95/500\n",
            "1372/1372 [==============================] - 11s 8ms/step - loss: 6.8874 - mae: 1.7796 - val_loss: 3.6604 - val_mae: 1.1721\n",
            "Epoch 96/500\n",
            "1372/1372 [==============================] - 11s 8ms/step - loss: 8.0065 - mae: 1.8715 - val_loss: 3.1059 - val_mae: 1.1677\n",
            "Epoch 97/500\n",
            "1372/1372 [==============================] - 11s 8ms/step - loss: 7.9703 - mae: 1.8621 - val_loss: 12.2969 - val_mae: 2.5557\n",
            "Epoch 98/500\n",
            "1372/1372 [==============================] - 11s 8ms/step - loss: 6.6389 - mae: 1.7460 - val_loss: 5.1084 - val_mae: 1.5746\n",
            "Epoch 99/500\n",
            "1372/1372 [==============================] - 11s 8ms/step - loss: 7.4291 - mae: 1.8138 - val_loss: 4.4720 - val_mae: 1.3956\n",
            "Epoch 100/500\n",
            "1372/1372 [==============================] - 11s 8ms/step - loss: 7.2111 - mae: 1.7904 - val_loss: 3.4441 - val_mae: 1.1759\n",
            "Epoch 101/500\n",
            "1372/1372 [==============================] - 11s 8ms/step - loss: 9.5201 - mae: 1.9854 - val_loss: 5.9556 - val_mae: 1.6636\n",
            "Epoch 102/500\n",
            "1372/1372 [==============================] - 11s 8ms/step - loss: 6.7865 - mae: 1.7289 - val_loss: 9.6773 - val_mae: 2.1231\n",
            "Epoch 103/500\n",
            "1372/1372 [==============================] - 11s 8ms/step - loss: 8.4002 - mae: 1.8814 - val_loss: 5.3915 - val_mae: 1.8141\n",
            "Epoch 104/500\n",
            "1372/1372 [==============================] - 11s 8ms/step - loss: 8.1097 - mae: 1.8530 - val_loss: 3.9962 - val_mae: 1.4166\n",
            "Epoch 105/500\n",
            "1372/1372 [==============================] - 11s 8ms/step - loss: 7.0121 - mae: 1.7379 - val_loss: 4.5914 - val_mae: 1.4423\n",
            "Epoch 106/500\n",
            "1372/1372 [==============================] - 11s 8ms/step - loss: 8.4707 - mae: 1.8879 - val_loss: 3.1548 - val_mae: 1.1966\n",
            "Epoch 107/500\n",
            "1372/1372 [==============================] - 11s 8ms/step - loss: 7.0992 - mae: 1.7473 - val_loss: 6.8181 - val_mae: 1.9332\n",
            "Epoch 108/500\n",
            "1372/1372 [==============================] - 11s 8ms/step - loss: 7.2409 - mae: 1.7556 - val_loss: 10.1620 - val_mae: 2.4051\n",
            "Epoch 109/500\n",
            "1372/1372 [==============================] - 11s 8ms/step - loss: 9.6960 - mae: 2.0537 - val_loss: 24.8832 - val_mae: 3.7443\n",
            "Epoch 110/500\n",
            "1372/1372 [==============================] - 11s 8ms/step - loss: 5.8314 - mae: 1.5913 - val_loss: 4.7123 - val_mae: 1.4309\n",
            "Epoch 111/500\n",
            "1372/1372 [==============================] - 11s 8ms/step - loss: 8.0683 - mae: 1.8362 - val_loss: 4.2470 - val_mae: 1.4975\n",
            "Epoch 112/500\n",
            "1372/1372 [==============================] - 11s 8ms/step - loss: 6.9143 - mae: 1.7408 - val_loss: 8.4033 - val_mae: 2.1190\n",
            "Epoch 113/500\n",
            "1372/1372 [==============================] - 11s 8ms/step - loss: 6.0123 - mae: 1.6169 - val_loss: 6.9296 - val_mae: 1.9597\n"
          ]
        }
      ]
    },
    {
      "cell_type": "code",
      "source": [
        "# Đánh giá độ chính xác của mô hình sau khi đã train \n",
        "Score=model.evaluate(x_test,y_test,verbose=0)\n",
        "print('Test Loss', Score[0])\n",
        "print('Test mean absolute error', Score[1])"
      ],
      "metadata": {
        "colab": {
          "base_uri": "https://localhost:8080/"
        },
        "id": "soxCU836TE1D",
        "outputId": "05210a33-c953-4e68-9c42-a349501b6970"
      },
      "execution_count": null,
      "outputs": [
        {
          "output_type": "stream",
          "name": "stdout",
          "text": [
            "Test Loss 6.921971797943115\n",
            "Test mean absolute error 1.9586164951324463\n"
          ]
        }
      ]
    },
    {
      "cell_type": "code",
      "source": [
        "# Vẽ đồ thị giữa số lần học (Epochs) và sai số trung bình tuyệt đối (Mean absolute error)\n",
        "plt.plot(history.history['mae'])\n",
        "plt.plot(history.history['val_mae'])\n",
        "plt.title('MODEL MEAN ABSOLUTE ERROR')\n",
        "plt.ylabel('Mean absolute error')\n",
        "plt.xlabel('Epochs')\n",
        "plt.legend(['Train','Validation'])\n",
        "plt.show\n",
        "plt.show"
      ],
      "metadata": {
        "colab": {
          "base_uri": "https://localhost:8080/",
          "height": 312
        },
        "id": "mhCcG4O8pxI1",
        "outputId": "59edab9c-74e2-489e-8f75-b0a6eb8e1c09"
      },
      "execution_count": null,
      "outputs": [
        {
          "output_type": "execute_result",
          "data": {
            "text/plain": [
              "<function matplotlib.pyplot.show>"
            ]
          },
          "metadata": {},
          "execution_count": 18
        },
        {
          "output_type": "display_data",
          "data": {
            "text/plain": [
              "<Figure size 432x288 with 1 Axes>"
            ],
            "image/png": "[encoded data removed]"
          },
          "metadata": {
            "needs_background": "light"
          }
        }
      ]
    },
    {
      "cell_type": "code",
      "source": [
        "# Dự doán bộ dữ liệu test và xem sai lệch giữa đầu ra của dữ liệu train và test\n",
        "predictions=model.predict(x_test)\n",
        "y_test=np.array(y_test)\n",
        "print(\"Predicted values are:\", predictions[6])\n",
        "print(\"Real values are:\",y_test[6])"
      ],
      "metadata": {
        "colab": {
          "base_uri": "https://localhost:8080/"
        },
        "id": "OjnwRqDFWGJ0",
        "outputId": "493d03fd-73ea-43f2-d652-05bf4a250ebb"
      },
      "execution_count": null,
      "outputs": [
        {
          "output_type": "stream",
          "name": "stdout",
          "text": [
            "Predicted values are: [57.032227 41.941765 80.68339 ]\n",
            "Real values are: [57. 42. 81.]\n"
          ]
        }
      ]
    },
    {
      "cell_type": "code",
      "source": [
        "# Chuyển sang pdf\n",
        "from google.colab import drive\n",
        "drive.mount('/content/drive')\n",
        "!sudo apt-get install texlive-xetex texlive-fonts-recommended texlive-generic-recommended\n",
        "!wget -nc https://raw.githubusercontent.com/brpy/colab-pdf/master/colab_pdf.py\n",
        "from colab_pdf import colab_pdf\n",
        "colab_pdf('ROBOT 3DOF.ipynb')"
      ],
      "metadata": {
        "id": "bMbZrJKj1Wr-"
      },
      "execution_count": null,
      "outputs": []
    }
  ]
}